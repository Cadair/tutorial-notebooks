{
 "cells": [
  {
   "cell_type": "markdown",
   "metadata": {},
   "source": [
    "# FIDO - the unified downloader tool for SunPy\n",
    "\n",
    "### NOTE: Internet access is required in order to use this tutorial\n",
    "\n",
    "FIDO is a new feature as part of the 0.8 SunPy release. It provides a unified interface to search for and download data from multiple sources and clients. For example, it can be used to search for images via the VSO, or timeseries data via an instrument-specific client, or both simultaneously.\n",
    "\n",
    "In this tutorial, we will show some examples of how FIDO may be used to both search for and download data of various types."
   ]
  },
  {
   "cell_type": "markdown",
   "metadata": {},
   "source": [
    "### Importing modules - getting started\n",
    "\n",
    "Python is modular, so first we have to import some modules we will need."
   ]
  },
  {
   "cell_type": "code",
   "execution_count": 1,
   "metadata": {
    "collapsed": false
   },
   "outputs": [
    {
     "name": "stderr",
     "output_type": "stream",
     "text": [
      "WARNING: AstropyDeprecationWarning: Config parameter 'name_resolve_timeout' in section [coordinates.name_resolve] of the file '/Users/ainglis/.astropy/config/astropy.cfg' is deprecated. Use 'remote_timeout' in section [utils.data] instead. [astropy.config.configuration]\n",
      "WARNING: AstropyDeprecationWarning: Config parameter 'remote_timeout' in section [utils.data] of the file '/Users/ainglis/.astropy/config/astropy.cfg' is given by more than one alias (astropy.utils.data.remote_timeout, coordinates.name_resolve.name_resolve_timeout). Using the first. [astropy.config.configuration]\n"
     ]
    }
   ],
   "source": [
    "import sunpy # import sunpy itself\n",
    "from sunpy.net import Fido #import the Fido module from sunpy\n",
    "from sunpy.net import attrs as a #these are the attributes that are used to construct searches with the FIDO client\n",
    "import matplotlib.pyplot as plt # for plotting\n",
    "import astropy.units as u # Much of SunPy uses astropy units and quantities"
   ]
  },
  {
   "cell_type": "markdown",
   "metadata": {},
   "source": [
    "### Prelude - a quick note on AstroPy Quantities"
   ]
  },
  {
   "cell_type": "markdown",
   "metadata": {},
   "source": [
    "Some Fido search queries require the use of AstroPy quantities. We are not going to cover these in detail here, but a brief explanation is needed."
   ]
  },
  {
   "cell_type": "markdown",
   "metadata": {},
   "source": [
    "In short, an Astropy Quantity is just a value attached so some units or dimensions. In the first cell, you will see that we already imported astropy.units and gave it the name u."
   ]
  },
  {
   "cell_type": "markdown",
   "metadata": {},
   "source": [
    "#### Simple quantity example"
   ]
  },
  {
   "cell_type": "markdown",
   "metadata": {},
   "source": [
    "Here is a very quick example showing how quantities can be used. Here we construct a velocity in km/s and a distance in km. When we calculate the time to travel the distance at the given velocity, the result is unit aware. More details of Units and Quantities can be found in other notebooks."
   ]
  },
  {
   "cell_type": "code",
   "execution_count": 2,
   "metadata": {
    "collapsed": false
   },
   "outputs": [
    {
     "name": "stdout",
     "output_type": "stream",
     "text": [
      "1500.0 s\n",
      "s\n"
     ]
    }
   ],
   "source": [
    "velocity = 100*u.km/u.s\n",
    "distance = 150000*u.km\n",
    "time_to_travel = distance/velocity\n",
    "print(time_to_travel)\n",
    "print(time_to_travel.unit)"
   ]
  },
  {
   "cell_type": "markdown",
   "metadata": {
    "collapsed": false
   },
   "source": [
    "### Example 1 - A simple search for AIA data"
   ]
  },
  {
   "cell_type": "markdown",
   "metadata": {
    "collapsed": false
   },
   "source": [
    "First, let's construct a simple search for AIA images using the Fido client. To do this, we have to construct a search query using valid *attributes*. Above, we imported the attributes module and gave it the short name *a*."
   ]
  },
  {
   "cell_type": "markdown",
   "metadata": {},
   "source": [
    "Let's search for all AIA files between 06:20 and 06:30 on 2011 June 7, during which there was an M-class solar flare."
   ]
  },
  {
   "cell_type": "code",
   "execution_count": 3,
   "metadata": {
    "collapsed": false
   },
   "outputs": [],
   "source": [
    "example1_search = Fido.search(a.Time('2011-06-07 06:20','2011-06-07 06:30'), a.Instrument('AIA'))"
   ]
  },
  {
   "cell_type": "code",
   "execution_count": 4,
   "metadata": {
    "collapsed": false
   },
   "outputs": [
    {
     "name": "stdout",
     "output_type": "stream",
     "text": [
      "Results from 1 Provider:\n",
      "\n",
      "402 Results from the VSOClient:\n",
      "   Start Time [1]       End Time [1]    Source ...   Type    Wavelength [2] \n",
      "                                               ...              Angstrom    \n",
      "       str19               str19         str3  ...   str8       float64     \n",
      "------------------- ------------------- ------ ... -------- ----------------\n",
      "2011-06-07 06:20:00 2011-06-07 06:20:01    SDO ... FULLDISK   171.0 .. 171.0\n",
      "2011-06-07 06:20:00 2011-06-07 06:20:01    SDO ... FULLDISK   211.0 .. 211.0\n",
      "2011-06-07 06:20:02 2011-06-07 06:20:03    SDO ... FULLDISK     94.0 .. 94.0\n",
      "2011-06-07 06:20:03 2011-06-07 06:20:04    SDO ... FULLDISK   335.0 .. 335.0\n",
      "2011-06-07 06:20:07 2011-06-07 06:20:08    SDO ... FULLDISK 1700.0 .. 1700.0\n",
      "2011-06-07 06:20:07 2011-06-07 06:20:08    SDO ... FULLDISK   193.0 .. 193.0\n",
      "2011-06-07 06:20:08 2011-06-07 06:20:09    SDO ... FULLDISK     94.0 .. 94.0\n",
      "2011-06-07 06:20:09 2011-06-07 06:20:10    SDO ... FULLDISK   131.0 .. 131.0\n",
      "2011-06-07 06:20:12 2011-06-07 06:20:13    SDO ... FULLDISK   171.0 .. 171.0\n",
      "                ...                 ...    ... ...      ...              ...\n",
      "2011-06-07 06:29:50 2011-06-07 06:29:51    SDO ... FULLDISK     94.0 .. 94.0\n",
      "2011-06-07 06:29:50 2011-06-07 06:29:51    SDO ... FULLDISK   171.0 .. 171.0\n",
      "2011-06-07 06:29:51 2011-06-07 06:29:52    SDO ... FULLDISK   211.0 .. 211.0\n",
      "2011-06-07 06:29:51 2011-06-07 06:29:52    SDO ... FULLDISK   335.0 .. 335.0\n",
      "2011-06-07 06:29:53 2011-06-07 06:29:54    SDO ... FULLDISK 1600.0 .. 1600.0\n",
      "2011-06-07 06:29:55 2011-06-07 06:29:56    SDO ... FULLDISK   193.0 .. 193.0\n",
      "2011-06-07 06:29:56 2011-06-07 06:29:57    SDO ... FULLDISK     94.0 .. 94.0\n",
      "2011-06-07 06:29:57 2011-06-07 06:29:58    SDO ... FULLDISK   131.0 .. 131.0\n",
      "2011-06-07 06:30:00 2011-06-07 06:30:01    SDO ... FULLDISK   171.0 .. 171.0\n",
      "2011-06-07 06:30:00 2011-06-07 06:30:01    SDO ... FULLDISK   211.0 .. 211.0\n",
      "\n",
      "\n"
     ]
    },
    {
     "name": "stderr",
     "output_type": "stream",
     "text": [
      "WARNING: AstropyDeprecationWarning: Config parameter 'max_lines' in section [table.pprint] of the file '/Users/ainglis/.astropy/config/astropy.cfg' is deprecated. Use 'max_lines' at the top-level instead. [astropy.config.configuration]\n",
      "WARNING: AstropyDeprecationWarning: Config parameter 'max_width' in section [table.pprint] of the file '/Users/ainglis/.astropy/config/astropy.cfg' is deprecated. Use 'max_width' at the top-level instead. [astropy.config.configuration]\n"
     ]
    }
   ],
   "source": [
    "print(example1_search)"
   ]
  },
  {
   "cell_type": "markdown",
   "metadata": {},
   "source": [
    "From this summary of the search we can understand a few things. First, the search returned 402 files. We can see the properties of these files, such as the wavelength and time interval. Secondly, we can see that these entries were sourced from the Virtual Solar Observatory (VSO) client."
   ]
  },
  {
   "cell_type": "markdown",
   "metadata": {},
   "source": [
    "Let's refine this search to return only files with the 171A filter."
   ]
  },
  {
   "cell_type": "code",
   "execution_count": 5,
   "metadata": {
    "collapsed": false
   },
   "outputs": [],
   "source": [
    "example1_search = Fido.search(a.Time('2011-06-07 06:20','2011-06-07 06:30'),\n",
    "                              a.Instrument('AIA'), a.Wavelength(171*u.angstrom))"
   ]
  },
  {
   "cell_type": "code",
   "execution_count": 6,
   "metadata": {
    "collapsed": false
   },
   "outputs": [
    {
     "name": "stdout",
     "output_type": "stream",
     "text": [
      "Results from 1 Provider:\n",
      "\n",
      "51 Results from the VSOClient:\n",
      "   Start Time [1]       End Time [1]    Source ...   Type   Wavelength [2]\n",
      "                                               ...             Angstrom   \n",
      "       str19               str19         str3  ...   str8      float64    \n",
      "------------------- ------------------- ------ ... -------- --------------\n",
      "2011-06-07 06:20:00 2011-06-07 06:20:01    SDO ... FULLDISK 171.0 .. 171.0\n",
      "2011-06-07 06:20:12 2011-06-07 06:20:13    SDO ... FULLDISK 171.0 .. 171.0\n",
      "2011-06-07 06:20:24 2011-06-07 06:20:25    SDO ... FULLDISK 171.0 .. 171.0\n",
      "2011-06-07 06:20:36 2011-06-07 06:20:37    SDO ... FULLDISK 171.0 .. 171.0\n",
      "2011-06-07 06:20:48 2011-06-07 06:20:49    SDO ... FULLDISK 171.0 .. 171.0\n",
      "2011-06-07 06:21:00 2011-06-07 06:21:01    SDO ... FULLDISK 171.0 .. 171.0\n",
      "2011-06-07 06:21:12 2011-06-07 06:21:13    SDO ... FULLDISK 171.0 .. 171.0\n",
      "2011-06-07 06:21:24 2011-06-07 06:21:25    SDO ... FULLDISK 171.0 .. 171.0\n",
      "2011-06-07 06:21:36 2011-06-07 06:21:37    SDO ... FULLDISK 171.0 .. 171.0\n",
      "                ...                 ...    ... ...      ...            ...\n",
      "2011-06-07 06:28:14 2011-06-07 06:28:15    SDO ... FULLDISK 171.0 .. 171.0\n",
      "2011-06-07 06:28:24 2011-06-07 06:28:25    SDO ... FULLDISK 171.0 .. 171.0\n",
      "2011-06-07 06:28:38 2011-06-07 06:28:39    SDO ... FULLDISK 171.0 .. 171.0\n",
      "2011-06-07 06:28:48 2011-06-07 06:28:49    SDO ... FULLDISK 171.0 .. 171.0\n",
      "2011-06-07 06:29:02 2011-06-07 06:29:03    SDO ... FULLDISK 171.0 .. 171.0\n",
      "2011-06-07 06:29:12 2011-06-07 06:29:13    SDO ... FULLDISK 171.0 .. 171.0\n",
      "2011-06-07 06:29:26 2011-06-07 06:29:27    SDO ... FULLDISK 171.0 .. 171.0\n",
      "2011-06-07 06:29:36 2011-06-07 06:29:37    SDO ... FULLDISK 171.0 .. 171.0\n",
      "2011-06-07 06:29:50 2011-06-07 06:29:51    SDO ... FULLDISK 171.0 .. 171.0\n",
      "2011-06-07 06:30:00 2011-06-07 06:30:01    SDO ... FULLDISK 171.0 .. 171.0\n",
      "\n",
      "\n"
     ]
    }
   ],
   "source": [
    "print(example1_search)"
   ]
  },
  {
   "cell_type": "markdown",
   "metadata": {},
   "source": [
    "Now we can see that only 51 results were returned, all for files with the 171A filter. Notice also that we had to specify the wavelength using the astropy unit u.angstroms). Many functions in SunPy use these Units, which remove ambiguity in functions. *HINT*: see what happens if you try to carry out the search using just '171' as the wavelength."
   ]
  },
  {
   "cell_type": "markdown",
   "metadata": {},
   "source": [
    "#### Example 1 - downloading the result"
   ]
  },
  {
   "cell_type": "markdown",
   "metadata": {},
   "source": [
    "The Fido module allows us to easily download the search results using the Fido.fetch function."
   ]
  },
  {
   "cell_type": "markdown",
   "metadata": {},
   "source": [
    "Let's download just the first file in our search results:"
   ]
  },
  {
   "cell_type": "code",
   "execution_count": 7,
   "metadata": {
    "collapsed": false
   },
   "outputs": [
    {
     "name": "stdout",
     "output_type": "stream",
     "text": [
      "[                                        ]\b\b\b\b\b\b\b\b\b\b\b\b\b\b\b\b\b\b\b\b\b\b\b\b\b\b\b\b\b\b\b\b\b\b\b\b\b\b\b\b\b========================================\n"
     ]
    },
    {
     "data": {
      "text/plain": [
       "['./aia_lev1_171a_2011_06_07t06_20_00_35z_image_lev1.0.fits']"
      ]
     },
     "execution_count": 7,
     "metadata": {},
     "output_type": "execute_result"
    }
   ],
   "source": [
    "Fido.fetch(example1_search[:,0], path='.')"
   ]
  },
  {
   "cell_type": "markdown",
   "metadata": {},
   "source": [
    "Now check that the file was correctly downloaded"
   ]
  },
  {
   "cell_type": "code",
   "execution_count": 8,
   "metadata": {
    "collapsed": false
   },
   "outputs": [
    {
     "name": "stdout",
     "output_type": "stream",
     "text": [
      "aia_lev1_171a_2011_06_07t06_20_00_35z_image_lev1.0.fits\r\n",
      "aia_lev1_171a_2011_06_07t06_20_00_35z_image_lev1.fits\r\n",
      "go1520110607.fits\r\n"
     ]
    }
   ],
   "source": [
    "ls *.fits"
   ]
  },
  {
   "cell_type": "markdown",
   "metadata": {},
   "source": [
    "### Example 2 - querying multiple instruments simultaneously"
   ]
  },
  {
   "cell_type": "markdown",
   "metadata": {},
   "source": [
    "We often want to retrieve data from different instruments of missions simultaneously, for example we may want SDO/AIA and STEREO/EUV images together. FIDO allows us to easily construct such searches."
   ]
  },
  {
   "cell_type": "markdown",
   "metadata": {},
   "source": [
    "Let's search for AIA and STEREO/EUVI data for the same time interval as before, between 06:20 - 06:30 on 2011 June 7."
   ]
  },
  {
   "cell_type": "code",
   "execution_count": 9,
   "metadata": {
    "collapsed": true
   },
   "outputs": [],
   "source": [
    "example2_search = Fido.search(a.Time('2011-06-07 06:20','2011-06-07 06:30'),\n",
    "                              a.Instrument('AIA') | a.Instrument('EUVI'))"
   ]
  },
  {
   "cell_type": "markdown",
   "metadata": {},
   "source": [
    "Using the '|' symbol we can construct queries with multiple options for a given attribute, in this case 'Instrument'."
   ]
  },
  {
   "cell_type": "code",
   "execution_count": 10,
   "metadata": {
    "collapsed": false
   },
   "outputs": [
    {
     "name": "stdout",
     "output_type": "stream",
     "text": [
      "Results from 2 Providers:\n",
      "\n",
      "402 Results from the VSOClient:\n",
      "   Start Time [1]       End Time [1]    Source ...   Type    Wavelength [2] \n",
      "                                               ...              Angstrom    \n",
      "       str19               str19         str3  ...   str8       float64     \n",
      "------------------- ------------------- ------ ... -------- ----------------\n",
      "2011-06-07 06:20:00 2011-06-07 06:20:01    SDO ... FULLDISK   171.0 .. 171.0\n",
      "2011-06-07 06:20:00 2011-06-07 06:20:01    SDO ... FULLDISK   211.0 .. 211.0\n",
      "2011-06-07 06:20:02 2011-06-07 06:20:03    SDO ... FULLDISK     94.0 .. 94.0\n",
      "2011-06-07 06:20:03 2011-06-07 06:20:04    SDO ... FULLDISK   335.0 .. 335.0\n",
      "2011-06-07 06:20:07 2011-06-07 06:20:08    SDO ... FULLDISK 1700.0 .. 1700.0\n",
      "2011-06-07 06:20:07 2011-06-07 06:20:08    SDO ... FULLDISK   193.0 .. 193.0\n",
      "2011-06-07 06:20:08 2011-06-07 06:20:09    SDO ... FULLDISK     94.0 .. 94.0\n",
      "2011-06-07 06:20:09 2011-06-07 06:20:10    SDO ... FULLDISK   131.0 .. 131.0\n",
      "2011-06-07 06:20:12 2011-06-07 06:20:13    SDO ... FULLDISK   171.0 .. 171.0\n",
      "                ...                 ...    ... ...      ...              ...\n",
      "2011-06-07 06:29:50 2011-06-07 06:29:51    SDO ... FULLDISK     94.0 .. 94.0\n",
      "2011-06-07 06:29:50 2011-06-07 06:29:51    SDO ... FULLDISK   171.0 .. 171.0\n",
      "2011-06-07 06:29:51 2011-06-07 06:29:52    SDO ... FULLDISK   211.0 .. 211.0\n",
      "2011-06-07 06:29:51 2011-06-07 06:29:52    SDO ... FULLDISK   335.0 .. 335.0\n",
      "2011-06-07 06:29:53 2011-06-07 06:29:54    SDO ... FULLDISK 1600.0 .. 1600.0\n",
      "2011-06-07 06:29:55 2011-06-07 06:29:56    SDO ... FULLDISK   193.0 .. 193.0\n",
      "2011-06-07 06:29:56 2011-06-07 06:29:57    SDO ... FULLDISK     94.0 .. 94.0\n",
      "2011-06-07 06:29:57 2011-06-07 06:29:58    SDO ... FULLDISK   131.0 .. 131.0\n",
      "2011-06-07 06:30:00 2011-06-07 06:30:01    SDO ... FULLDISK   171.0 .. 171.0\n",
      "2011-06-07 06:30:00 2011-06-07 06:30:01    SDO ... FULLDISK   211.0 .. 211.0\n",
      "\n",
      "22 Results from the VSOClient:\n",
      "   Start Time [1]       End Time [1]     Source  ...   Type   Wavelength [2]\n",
      "                                                 ...             Angstrom   \n",
      "       str19               str19          str8   ...   str8      float64    \n",
      "------------------- ------------------- -------- ... -------- --------------\n",
      "2011-06-07 05:03:55 2011-06-07 09:50:15 STEREO_B ... FULLDISK 171.0 .. 175.0\n",
      "2011-06-07 06:20:10 2011-06-07 06:20:12 STEREO_B ... FULLDISK 171.0 .. 175.0\n",
      "2011-06-07 06:20:30 2011-06-07 06:20:38 STEREO_A ... FULLDISK 195.0 .. 195.0\n",
      "2011-06-07 06:20:55 2011-06-07 06:21:03 STEREO_B ... FULLDISK 195.0 .. 195.0\n",
      "2011-06-07 06:21:25 2011-06-07 06:21:27 STEREO_B ... FULLDISK 171.0 .. 175.0\n",
      "2011-06-07 06:21:40 2011-06-07 06:21:44 STEREO_B ... FULLDISK 304.0 .. 304.0\n",
      "2011-06-07 06:21:55 2011-06-07 06:22:27 STEREO_B ... FULLDISK 284.0 .. 284.0\n",
      "2011-06-07 06:22:40 2011-06-07 06:22:42 STEREO_B ... FULLDISK 171.0 .. 175.0\n",
      "2011-06-07 06:23:00 2011-06-07 06:23:08 STEREO_A ... FULLDISK 195.0 .. 195.0\n",
      "                ...                 ...      ... ...      ...            ...\n",
      "2011-06-07 06:25:30 2011-06-07 06:25:38 STEREO_A ... FULLDISK 195.0 .. 195.0\n",
      "2011-06-07 06:25:55 2011-06-07 06:26:03 STEREO_B ... FULLDISK 195.0 .. 195.0\n",
      "2011-06-07 06:26:15 2011-06-07 06:26:19 STEREO_A ... FULLDISK 304.0 .. 304.0\n",
      "2011-06-07 06:26:25 2011-06-07 06:26:27 STEREO_B ... FULLDISK 171.0 .. 175.0\n",
      "2011-06-07 06:26:40 2011-06-07 06:26:44 STEREO_B ... FULLDISK 304.0 .. 304.0\n",
      "2011-06-07 06:26:55 2011-06-07 06:27:27 STEREO_B ... FULLDISK 284.0 .. 284.0\n",
      "2011-06-07 06:27:40 2011-06-07 06:27:42 STEREO_B ... FULLDISK 171.0 .. 175.0\n",
      "2011-06-07 06:28:00 2011-06-07 06:28:08 STEREO_A ... FULLDISK 195.0 .. 195.0\n",
      "2011-06-07 06:28:55 2011-06-07 06:28:57 STEREO_B ... FULLDISK 171.0 .. 175.0\n",
      "2011-06-07 06:29:10 2011-06-07 06:29:14 STEREO_B ... FULLDISK 304.0 .. 304.0\n",
      "\n",
      "\n"
     ]
    }
   ],
   "source": [
    "print(example2_search)"
   ]
  },
  {
   "cell_type": "markdown",
   "metadata": {},
   "source": [
    "Looking at these results, we can see that we have search result in two blocks: the first block contains all the SDO/AIA search results, and the second block contains the STEREO/EUVI search results. As before, there were 402 AIA files found, and 22 STEREO/EUVI files."
   ]
  },
  {
   "cell_type": "markdown",
   "metadata": {},
   "source": [
    "These blocks can be indexed and retrieved separately, for example:"
   ]
  },
  {
   "cell_type": "code",
   "execution_count": 11,
   "metadata": {
    "collapsed": false
   },
   "outputs": [
    {
     "name": "stdout",
     "output_type": "stream",
     "text": [
      "Results from 1 Provider:\n",
      "\n",
      "22 Results from the VSOClient:\n",
      "   Start Time [1]       End Time [1]     Source  ...   Type   Wavelength [2]\n",
      "                                                 ...             Angstrom   \n",
      "       str19               str19          str8   ...   str8      float64    \n",
      "------------------- ------------------- -------- ... -------- --------------\n",
      "2011-06-07 05:03:55 2011-06-07 09:50:15 STEREO_B ... FULLDISK 171.0 .. 175.0\n",
      "2011-06-07 06:20:10 2011-06-07 06:20:12 STEREO_B ... FULLDISK 171.0 .. 175.0\n",
      "2011-06-07 06:20:30 2011-06-07 06:20:38 STEREO_A ... FULLDISK 195.0 .. 195.0\n",
      "2011-06-07 06:20:55 2011-06-07 06:21:03 STEREO_B ... FULLDISK 195.0 .. 195.0\n",
      "2011-06-07 06:21:25 2011-06-07 06:21:27 STEREO_B ... FULLDISK 171.0 .. 175.0\n",
      "2011-06-07 06:21:40 2011-06-07 06:21:44 STEREO_B ... FULLDISK 304.0 .. 304.0\n",
      "2011-06-07 06:21:55 2011-06-07 06:22:27 STEREO_B ... FULLDISK 284.0 .. 284.0\n",
      "2011-06-07 06:22:40 2011-06-07 06:22:42 STEREO_B ... FULLDISK 171.0 .. 175.0\n",
      "2011-06-07 06:23:00 2011-06-07 06:23:08 STEREO_A ... FULLDISK 195.0 .. 195.0\n",
      "                ...                 ...      ... ...      ...            ...\n",
      "2011-06-07 06:25:30 2011-06-07 06:25:38 STEREO_A ... FULLDISK 195.0 .. 195.0\n",
      "2011-06-07 06:25:55 2011-06-07 06:26:03 STEREO_B ... FULLDISK 195.0 .. 195.0\n",
      "2011-06-07 06:26:15 2011-06-07 06:26:19 STEREO_A ... FULLDISK 304.0 .. 304.0\n",
      "2011-06-07 06:26:25 2011-06-07 06:26:27 STEREO_B ... FULLDISK 171.0 .. 175.0\n",
      "2011-06-07 06:26:40 2011-06-07 06:26:44 STEREO_B ... FULLDISK 304.0 .. 304.0\n",
      "2011-06-07 06:26:55 2011-06-07 06:27:27 STEREO_B ... FULLDISK 284.0 .. 284.0\n",
      "2011-06-07 06:27:40 2011-06-07 06:27:42 STEREO_B ... FULLDISK 171.0 .. 175.0\n",
      "2011-06-07 06:28:00 2011-06-07 06:28:08 STEREO_A ... FULLDISK 195.0 .. 195.0\n",
      "2011-06-07 06:28:55 2011-06-07 06:28:57 STEREO_B ... FULLDISK 171.0 .. 175.0\n",
      "2011-06-07 06:29:10 2011-06-07 06:29:14 STEREO_B ... FULLDISK 304.0 .. 304.0\n",
      "\n",
      "\n"
     ]
    }
   ],
   "source": [
    "print(example2_search[1])"
   ]
  },
  {
   "cell_type": "markdown",
   "metadata": {},
   "source": [
    "...returns only the STEREO search results block."
   ]
  },
  {
   "cell_type": "markdown",
   "metadata": {},
   "source": [
    "As before, we can download these files using the Fido.fetch command. Let's download just the first result from the STEREO results block."
   ]
  },
  {
   "cell_type": "code",
   "execution_count": 12,
   "metadata": {
    "collapsed": false
   },
   "outputs": [
    {
     "name": "stdout",
     "output_type": "stream",
     "text": [
      "[                                        ]\b\b\b\b\b\b\b\b\b\b\b\b\b\b\b\b\b\b\b\b\b\b\b\b\b\b\b\b\b\b\b\b\b\b\b\b\b\b\b\b\b========================================\n"
     ]
    },
    {
     "data": {
      "text/plain": [
       "['./20110607_050330_n5eub.0.fts']"
      ]
     },
     "execution_count": 12,
     "metadata": {},
     "output_type": "execute_result"
    }
   ],
   "source": [
    "Fido.fetch(example2_search[1,0],path='.')"
   ]
  },
  {
   "cell_type": "code",
   "execution_count": 13,
   "metadata": {
    "collapsed": false
   },
   "outputs": [
    {
     "name": "stdout",
     "output_type": "stream",
     "text": [
      "20110607_050330_n5eub.0.fts\r\n",
      "20110607_050330_n5eub.fts\r\n",
      "README.md\r\n",
      "aia_lev1_171a_2011_06_07t06_20_00_35z_image_lev1.0.fits\r\n",
      "aia_lev1_171a_2011_06_07t06_20_00_35z_image_lev1.fits\r\n",
      "fido_example.ipynb\r\n",
      "go1520110607.fits\r\n"
     ]
    }
   ],
   "source": [
    "ls"
   ]
  },
  {
   "cell_type": "markdown",
   "metadata": {},
   "source": [
    "### Example 3 - querying multiple clients for different data types simultaneously"
   ]
  },
  {
   "cell_type": "markdown",
   "metadata": {},
   "source": [
    "In both examples above, Fido returned results exclusively from the VSO client. Crucially though, Fido supports the search for data files from multiple different clients simulaneously. "
   ]
  },
  {
   "cell_type": "markdown",
   "metadata": {},
   "source": [
    "As an example, let's construct a query where we want to obtain the AIA data, STEREO/EUVI data, and the GOES/XRS time series data from the 2011 June 7 event simultaneously."
   ]
  },
  {
   "cell_type": "code",
   "execution_count": 14,
   "metadata": {
    "collapsed": true
   },
   "outputs": [],
   "source": [
    "example3_search = Fido.search(a.Time('2011-06-07 06:20','2011-06-07 06:30'),\n",
    "                              a.Instrument('AIA') | a.Instrument('EUVI') | a.Instrument('GOES'))"
   ]
  },
  {
   "cell_type": "code",
   "execution_count": 15,
   "metadata": {
    "collapsed": false
   },
   "outputs": [
    {
     "name": "stdout",
     "output_type": "stream",
     "text": [
      "Results from 3 Providers:\n",
      "\n",
      "402 Results from the VSOClient:\n",
      "   Start Time [1]       End Time [1]    Source ...   Type    Wavelength [2] \n",
      "                                               ...              Angstrom    \n",
      "       str19               str19         str3  ...   str8       float64     \n",
      "------------------- ------------------- ------ ... -------- ----------------\n",
      "2011-06-07 06:20:00 2011-06-07 06:20:01    SDO ... FULLDISK   171.0 .. 171.0\n",
      "2011-06-07 06:20:00 2011-06-07 06:20:01    SDO ... FULLDISK   211.0 .. 211.0\n",
      "2011-06-07 06:20:02 2011-06-07 06:20:03    SDO ... FULLDISK     94.0 .. 94.0\n",
      "2011-06-07 06:20:03 2011-06-07 06:20:04    SDO ... FULLDISK   335.0 .. 335.0\n",
      "2011-06-07 06:20:07 2011-06-07 06:20:08    SDO ... FULLDISK 1700.0 .. 1700.0\n",
      "2011-06-07 06:20:07 2011-06-07 06:20:08    SDO ... FULLDISK   193.0 .. 193.0\n",
      "2011-06-07 06:20:08 2011-06-07 06:20:09    SDO ... FULLDISK     94.0 .. 94.0\n",
      "2011-06-07 06:20:09 2011-06-07 06:20:10    SDO ... FULLDISK   131.0 .. 131.0\n",
      "2011-06-07 06:20:12 2011-06-07 06:20:13    SDO ... FULLDISK   171.0 .. 171.0\n",
      "                ...                 ...    ... ...      ...              ...\n",
      "2011-06-07 06:29:50 2011-06-07 06:29:51    SDO ... FULLDISK     94.0 .. 94.0\n",
      "2011-06-07 06:29:50 2011-06-07 06:29:51    SDO ... FULLDISK   171.0 .. 171.0\n",
      "2011-06-07 06:29:51 2011-06-07 06:29:52    SDO ... FULLDISK   211.0 .. 211.0\n",
      "2011-06-07 06:29:51 2011-06-07 06:29:52    SDO ... FULLDISK   335.0 .. 335.0\n",
      "2011-06-07 06:29:53 2011-06-07 06:29:54    SDO ... FULLDISK 1600.0 .. 1600.0\n",
      "2011-06-07 06:29:55 2011-06-07 06:29:56    SDO ... FULLDISK   193.0 .. 193.0\n",
      "2011-06-07 06:29:56 2011-06-07 06:29:57    SDO ... FULLDISK     94.0 .. 94.0\n",
      "2011-06-07 06:29:57 2011-06-07 06:29:58    SDO ... FULLDISK   131.0 .. 131.0\n",
      "2011-06-07 06:30:00 2011-06-07 06:30:01    SDO ... FULLDISK   171.0 .. 171.0\n",
      "2011-06-07 06:30:00 2011-06-07 06:30:01    SDO ... FULLDISK   211.0 .. 211.0\n",
      "\n",
      "22 Results from the VSOClient:\n",
      "   Start Time [1]       End Time [1]     Source  ...   Type   Wavelength [2]\n",
      "                                                 ...             Angstrom   \n",
      "       str19               str19          str8   ...   str8      float64    \n",
      "------------------- ------------------- -------- ... -------- --------------\n",
      "2011-06-07 05:03:55 2011-06-07 09:50:15 STEREO_B ... FULLDISK 171.0 .. 175.0\n",
      "2011-06-07 06:20:10 2011-06-07 06:20:12 STEREO_B ... FULLDISK 171.0 .. 175.0\n",
      "2011-06-07 06:20:30 2011-06-07 06:20:38 STEREO_A ... FULLDISK 195.0 .. 195.0\n",
      "2011-06-07 06:20:55 2011-06-07 06:21:03 STEREO_B ... FULLDISK 195.0 .. 195.0\n",
      "2011-06-07 06:21:25 2011-06-07 06:21:27 STEREO_B ... FULLDISK 171.0 .. 175.0\n",
      "2011-06-07 06:21:40 2011-06-07 06:21:44 STEREO_B ... FULLDISK 304.0 .. 304.0\n",
      "2011-06-07 06:21:55 2011-06-07 06:22:27 STEREO_B ... FULLDISK 284.0 .. 284.0\n",
      "2011-06-07 06:22:40 2011-06-07 06:22:42 STEREO_B ... FULLDISK 171.0 .. 175.0\n",
      "2011-06-07 06:23:00 2011-06-07 06:23:08 STEREO_A ... FULLDISK 195.0 .. 195.0\n",
      "                ...                 ...      ... ...      ...            ...\n",
      "2011-06-07 06:25:30 2011-06-07 06:25:38 STEREO_A ... FULLDISK 195.0 .. 195.0\n",
      "2011-06-07 06:25:55 2011-06-07 06:26:03 STEREO_B ... FULLDISK 195.0 .. 195.0\n",
      "2011-06-07 06:26:15 2011-06-07 06:26:19 STEREO_A ... FULLDISK 304.0 .. 304.0\n",
      "2011-06-07 06:26:25 2011-06-07 06:26:27 STEREO_B ... FULLDISK 171.0 .. 175.0\n",
      "2011-06-07 06:26:40 2011-06-07 06:26:44 STEREO_B ... FULLDISK 304.0 .. 304.0\n",
      "2011-06-07 06:26:55 2011-06-07 06:27:27 STEREO_B ... FULLDISK 284.0 .. 284.0\n",
      "2011-06-07 06:27:40 2011-06-07 06:27:42 STEREO_B ... FULLDISK 171.0 .. 175.0\n",
      "2011-06-07 06:28:00 2011-06-07 06:28:08 STEREO_A ... FULLDISK 195.0 .. 195.0\n",
      "2011-06-07 06:28:55 2011-06-07 06:28:57 STEREO_B ... FULLDISK 171.0 .. 175.0\n",
      "2011-06-07 06:29:10 2011-06-07 06:29:14 STEREO_B ... FULLDISK 304.0 .. 304.0\n",
      "\n",
      "1 Results from the GOESClient:\n",
      "     Start Time           End Time      Source Instrument Wavelength\n",
      "       str19               str19         str4     str4       str3   \n",
      "------------------- ------------------- ------ ---------- ----------\n",
      "2011-06-07 06:20:00 2011-06-07 06:30:00   nasa       goes        nan\n",
      "\n",
      "\n"
     ]
    }
   ],
   "source": [
    "print(example3_search)"
   ]
  },
  {
   "cell_type": "markdown",
   "metadata": {},
   "source": [
    "We can see that this time, we have three blocks of responses. The third block contains results from another client, the GOESClient, which is for GOES/XRS time series data. FIDO automatically communicates with all of the different SunPy clients as required to find the requested data."
   ]
  },
  {
   "cell_type": "code",
   "execution_count": 16,
   "metadata": {
    "collapsed": false
   },
   "outputs": [
    {
     "data": {
      "text/html": [
       "Results from 1 Provider:</br></br>1 Results from the GOESClient:</br>&lt;Table length=1&gt;\n",
       "<table id=\"table4872723728\" class=\"table-striped table-bordered table-condensed\">\n",
       "<thead><tr><th>Start Time</th><th>End Time</th><th>Source</th><th>Instrument</th><th>Wavelength</th></tr></thead>\n",
       "<thead><tr><th>str19</th><th>str19</th><th>str4</th><th>str4</th><th>str3</th></tr></thead>\n",
       "<tr><td>2011-06-07 06:20:00</td><td>2011-06-07 06:30:00</td><td>nasa</td><td>goes</td><td>nan</td></tr>\n",
       "</table></br>"
      ],
      "text/plain": [
       "<sunpy.net.fido_factory.UnifiedResponse object at 0x1226fdc10>\n",
       "Results from 1 Provider:\n",
       "\n",
       "1 Results from the GOESClient:\n",
       "     Start Time           End Time      Source Instrument Wavelength\n",
       "       str19               str19         str4     str4       str3   \n",
       "------------------- ------------------- ------ ---------- ----------\n",
       "2011-06-07 06:20:00 2011-06-07 06:30:00   nasa       goes        nan\n"
      ]
     },
     "execution_count": 16,
     "metadata": {},
     "output_type": "execute_result"
    }
   ],
   "source": [
    "example3_search[2]"
   ]
  },
  {
   "cell_type": "markdown",
   "metadata": {},
   "source": [
    "Once again, we can download just the GOES/XRS timeseries data using Fido.fetch."
   ]
  },
  {
   "cell_type": "code",
   "execution_count": 17,
   "metadata": {
    "collapsed": false
   },
   "outputs": [
    {
     "name": "stdout",
     "output_type": "stream",
     "text": [
      "[                                        ]\b\b\b\b\b\b\b\b\b\b\b\b\b\b\b\b\b\b\b\b\b\b\b\b\b\b\b\b\b\b\b\b\b\b\b\b\b\b\b\b\b========================================\n"
     ]
    },
    {
     "data": {
      "text/plain": [
       "['./go1520110607.0.fits']"
      ]
     },
     "execution_count": 17,
     "metadata": {},
     "output_type": "execute_result"
    }
   ],
   "source": [
    "Fido.fetch(example3_search[2,:],path='.')"
   ]
  },
  {
   "cell_type": "code",
   "execution_count": 18,
   "metadata": {
    "collapsed": false
   },
   "outputs": [
    {
     "name": "stdout",
     "output_type": "stream",
     "text": [
      "20110607_050330_n5eub.0.fts\r\n",
      "20110607_050330_n5eub.fts\r\n",
      "README.md\r\n",
      "aia_lev1_171a_2011_06_07t06_20_00_35z_image_lev1.0.fits\r\n",
      "aia_lev1_171a_2011_06_07t06_20_00_35z_image_lev1.fits\r\n",
      "fido_example.ipynb\r\n",
      "go1520110607.0.fits\r\n",
      "go1520110607.fits\r\n"
     ]
    }
   ],
   "source": [
    "ls"
   ]
  },
  {
   "cell_type": "markdown",
   "metadata": {},
   "source": [
    "### Summary"
   ]
  },
  {
   "cell_type": "markdown",
   "metadata": {},
   "source": [
    "By the end of this notebook you should have a basic understanding of how to use FIDO, the unified downloader client in SunPy. Here are some key things to remember:\n",
    "   - The function Fido.search() allows you to search online for data files from a large suite of solar missions.\n",
    "   - The Fido.fetch() command allows you to download the reults of a search.\n",
    "   - Searches are constructed using *attributes*. Sometimes these attributes need to be in the form of an *AstroPy Quantity*.\n",
    "   - Complex queries can be constructed via combinations of attributes - multiple options for an attribute may be used simultaneously.\n",
    "   - Fido can search for different data types from different sources simultaneously, e.g. timeseries, images and spectra."
   ]
  },
  {
   "cell_type": "code",
   "execution_count": null,
   "metadata": {
    "collapsed": true
   },
   "outputs": [],
   "source": []
  }
 ],
 "metadata": {
  "kernelspec": {
   "display_name": "Python 2",
   "language": "python",
   "name": "python2"
  },
  "language_info": {
   "codemirror_mode": {
    "name": "ipython",
    "version": 2
   },
   "file_extension": ".py",
   "mimetype": "text/x-python",
   "name": "python",
   "nbconvert_exporter": "python",
   "pygments_lexer": "ipython2",
   "version": "2.7.13"
  }
 },
 "nbformat": 4,
 "nbformat_minor": 2
}
