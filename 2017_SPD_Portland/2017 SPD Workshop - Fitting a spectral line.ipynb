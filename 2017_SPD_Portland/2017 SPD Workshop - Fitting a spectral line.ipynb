{
 "cells": [
  {
   "cell_type": "markdown",
   "metadata": {},
   "source": [
    "# Fitting A Gaussian to a Spectral Line"
   ]
  },
  {
   "cell_type": "markdown",
   "metadata": {},
   "source": [
    "In this notebook we will follow a sample workflow of a scientist trying to produce a timeseries of a spectral line's intensity.  In doing so we will learn the following skills:\n",
    "1. Open a FITS file and access the data within using astropy.io.fits\n",
    "2. Plot data using matplotlib\n",
    "3. Extract data from an array using numpy logical functions\n",
    "4. Fit a Gaussian fo data using astropy models and fitting\n",
    "5. Integrate using scipy.integrate\n",
    "6. Use astropy quantities to associate units with our data"
   ]
  },
  {
   "cell_type": "code",
   "execution_count": 1,
   "metadata": {
    "collapsed": true
   },
   "outputs": [],
   "source": [
    "# Imports\n",
    "import os.path\n",
    "from datetime import datetime, timedelta\n",
    "\n",
    "import numpy as np\n",
    "from astropy.io import fits\n",
    "from astropy.modeling import models, fitting\n",
    "import matplotlib.pyplot as plt\n",
    "from scipy.integrate import trapz\n",
    "import astropy.units as u\n",
    "from astropy.units import Quantity"
   ]
  },
  {
   "cell_type": "code",
   "execution_count": 2,
   "metadata": {
    "collapsed": true
   },
   "outputs": [],
   "source": [
    "# Activate option that plots windows in notebook\n",
    "% matplotlib inline"
   ]
  },
  {
   "cell_type": "markdown",
   "metadata": {},
   "source": [
    "## Extract Data from a FIT File"
   ]
  },
  {
   "cell_type": "code",
   "execution_count": 3,
   "metadata": {
    "collapsed": true
   },
   "outputs": [],
   "source": [
    "# Define filename\n",
    "filename = 'EVS_L2_2011045_01_005_01.fit'"
   ]
  },
  {
   "cell_type": "code",
   "execution_count": 4,
   "metadata": {
    "collapsed": true
   },
   "outputs": [],
   "source": [
    "# Open FITS file with astropy.io.fits\n",
    "hdulist = fits.open(filename)"
   ]
  },
  {
   "cell_type": "markdown",
   "metadata": {},
   "source": [
    "The above command has created a list, hdulist, of Header Data Units (HDUs) which make up the FITS file.  Let us inspect this list."
   ]
  },
  {
   "cell_type": "code",
   "execution_count": 5,
   "metadata": {},
   "outputs": [
    {
     "data": {
      "text/plain": [
       "4"
      ]
     },
     "execution_count": 5,
     "metadata": {},
     "output_type": "execute_result"
    }
   ],
   "source": [
    "# How many HDU are in hdulist?\n",
    "len(hdulist)"
   ]
  },
  {
   "cell_type": "markdown",
   "metadata": {},
   "source": [
    "This is an EVE level 2 spectrum file.  So the first HDU contain a minimal header and no data."
   ]
  },
  {
   "cell_type": "code",
   "execution_count": 6,
   "metadata": {},
   "outputs": [
    {
     "data": {
      "text/plain": [
       "SIMPLE  =                    T /Dummy Created by MWRFITS v1.11                  \n",
       "BITPIX  =                    8 /Dummy primary header created by MWRFITS         \n",
       "NAXIS   =                    0 /No data is associated with this header          \n",
       "EXTEND  =                    T /Extensions may (will!) be present               "
      ]
     },
     "execution_count": 6,
     "metadata": {},
     "output_type": "execute_result"
    }
   ],
   "source": [
    "hdulist[0].header"
   ]
  },
  {
   "cell_type": "code",
   "execution_count": 7,
   "metadata": {
    "collapsed": true
   },
   "outputs": [],
   "source": [
    "hdulist[0].data"
   ]
  },
  {
   "cell_type": "markdown",
   "metadata": {},
   "source": [
    "The first wavelength data is contained in the 2nd HDU and the irradiance data is in the 4th HDU.  The data within these HDUs are stored in numpy record arrays, arrays where you can index the columns with a string.  So we can access the wavelength and irradiance data like so\""
   ]
  },
  {
   "cell_type": "code",
   "execution_count": 8,
   "metadata": {},
   "outputs": [
    {
     "data": {
      "text/plain": [
       "array([   3.00999999,    3.02999997,    3.04999995, ...,  106.94999695,\n",
       "        106.97000122,  106.98999786], dtype=float32)"
      ]
     },
     "execution_count": 8,
     "metadata": {},
     "output_type": "execute_result"
    }
   ],
   "source": [
    "hdulist[1].data[\"WAVELENGTH\"]"
   ]
  },
  {
   "cell_type": "code",
   "execution_count": 9,
   "metadata": {},
   "outputs": [
    {
     "data": {
      "text/plain": [
       "array([-1., -1., -1., ..., -1., -1., -1.], dtype=float32)"
      ]
     },
     "execution_count": 9,
     "metadata": {},
     "output_type": "execute_result"
    }
   ],
   "source": [
    "hdulist[3].data[0][\"IRRADIANCE\"]"
   ]
  },
  {
   "cell_type": "markdown",
   "metadata": {},
   "source": [
    "## Plot A Spectrum"
   ]
  },
  {
   "cell_type": "markdown",
   "metadata": {},
   "source": [
    "For this we will use the matplolib.pyplot package which we imported at the top and this notebook as plt."
   ]
  },
  {
   "cell_type": "code",
   "execution_count": 10,
   "metadata": {},
   "outputs": [
    {
     "data": {
      "text/plain": [
       "(5, 40)"
      ]
     },
     "execution_count": 10,
     "metadata": {},
     "output_type": "execute_result"
    },
    {
     "data": {
      "image/png": "[encoded data removed]",
      "text/plain": [
       "<matplotlib.figure.Figure at 0x11c24bcc0>"
      ]
     },
     "metadata": {},
     "output_type": "display_data"
    }
   ],
   "source": [
    "plt.plot(hdulist[1].data[\"WAVELENGTH\"], hdulist[3].data[0][\"IRRADIANCE\"])\n",
    "plt.ylim(0, 0.007) # Set limits of y-axis.\n",
    "plt.xlim(5, 40) # Set limits of x-axis."
   ]
  },
  {
   "cell_type": "markdown",
   "metadata": {},
   "source": [
    "## Extract a Sub-region Around the He II 304 line."
   ]
  },
  {
   "cell_type": "markdown",
   "metadata": {},
   "source": [
    "We can see the strong He II 304.  Let us extract just the data around this line using the numpy logical and function."
   ]
  },
  {
   "cell_type": "code",
   "execution_count": 11,
   "metadata": {
    "collapsed": true
   },
   "outputs": [],
   "source": [
    "w = np.logical_and(hdulist[1].data[\"WAVELENGTH\"] > 30.2, hdulist[1].data[\"WAVELENGTH\"] < 30.6)"
   ]
  },
  {
   "cell_type": "markdown",
   "metadata": {},
   "source": [
    "This produces an array of boolean values of the same shape as the array we searched, i.e. hdulist[1].data[\"WAVELENGTH\"].  True values show elements in the original array that meet our criteria and False for those that don't."
   ]
  },
  {
   "cell_type": "code",
   "execution_count": 12,
   "metadata": {},
   "outputs": [
    {
     "data": {
      "text/plain": [
       "array([False, False, False, ..., False, False, False], dtype=bool)"
      ]
     },
     "execution_count": 12,
     "metadata": {},
     "output_type": "execute_result"
    }
   ],
   "source": [
    "w"
   ]
  },
  {
   "cell_type": "markdown",
   "metadata": {},
   "source": [
    "We can use this boolean array to index our data array and extract just the data around the He II 304 line."
   ]
  },
  {
   "cell_type": "code",
   "execution_count": 13,
   "metadata": {
    "collapsed": true
   },
   "outputs": [],
   "source": [
    "wavelength = hdulist[1].data[\"WAVELENGTH\"][w] # Wavelength around the He II 304 line\n",
    "irradiance = hdulist[3].data[0][\"IRRADIANCE\"][w] # Irradiance from first exposure around the He II 304 line"
   ]
  },
  {
   "cell_type": "code",
   "execution_count": 14,
   "metadata": {},
   "outputs": [
    {
     "data": {
      "text/plain": [
       "array([ 30.20999908,  30.22999954,  30.25      ,  30.27000046,\n",
       "        30.29000092,  30.30999947,  30.32999992,  30.35000038,\n",
       "        30.37000084,  30.38999939,  30.40999985,  30.43000031,\n",
       "        30.45000076,  30.46999931,  30.48999977,  30.51000023,\n",
       "        30.53000069,  30.54999924,  30.56999969,  30.59000015], dtype=float32)"
      ]
     },
     "execution_count": 14,
     "metadata": {},
     "output_type": "execute_result"
    }
   ],
   "source": [
    "wavelength"
   ]
  },
  {
   "cell_type": "code",
   "execution_count": 15,
   "metadata": {},
   "outputs": [
    {
     "data": {
      "text/plain": [
       "array([  1.17592981e-05,   1.35788505e-05,   1.46737157e-05,\n",
       "         4.38078278e-05,   1.87091311e-04,   6.48452318e-04,\n",
       "         2.21259100e-03,   4.76356782e-03,   6.47498108e-03,\n",
       "         5.55816106e-03,   3.01268930e-03,   1.03060238e-03,\n",
       "         2.30668578e-04,   8.90922092e-05,   6.03179433e-05,\n",
       "         5.12264814e-05,   4.05171013e-05,   3.55092270e-05,\n",
       "         3.55048214e-05,   3.37863094e-05], dtype=float32)"
      ]
     },
     "execution_count": 15,
     "metadata": {},
     "output_type": "execute_result"
    }
   ],
   "source": [
    "irradiance"
   ]
  },
  {
   "cell_type": "markdown",
   "metadata": {},
   "source": [
    "To avoid confusion, we can associate the data with a unit by using astropy Quantities (imported at start of notebook).  This will also allow us to easily convert between units and perform unit arithmetic.  We can define units using strings or astropy unit objects (imported above)."
   ]
  },
  {
   "cell_type": "code",
   "execution_count": 16,
   "metadata": {
    "collapsed": true
   },
   "outputs": [],
   "source": [
    "wavelength = Quantity(wavelength, unit=u.nm) # EVE wavelength data supplied as nm.  Unit defined using unit object.\n",
    "irradiance = Quantity(irradiance, unit=\"W/m**2\") # Unit supplied as string."
   ]
  },
  {
   "cell_type": "markdown",
   "metadata": {},
   "source": [
    "Let us plot this truncated data."
   ]
  },
  {
   "cell_type": "code",
   "execution_count": 17,
   "metadata": {},
   "outputs": [
    {
     "data": {
      "text/plain": [
       "[<matplotlib.lines.Line2D at 0x11db0ac18>]"
      ]
     },
     "execution_count": 17,
     "metadata": {},
     "output_type": "execute_result"
    },
    {
     "data": {
      "image/png": "[encoded data removed]",
      "text/plain": [
       "<matplotlib.figure.Figure at 0x11c24be10>"
      ]
     },
     "metadata": {},
     "output_type": "display_data"
    }
   ],
   "source": [
    "plt.plot(wavelength, irradiance, 'o') # The 'o' input sets the linestyle as filled circles"
   ]
  },
  {
   "cell_type": "markdown",
   "metadata": {},
   "source": [
    "## Fit He II 304 line with a Gaussian"
   ]
  },
  {
   "cell_type": "code",
   "execution_count": 18,
   "metadata": {
    "collapsed": true
   },
   "outputs": [],
   "source": [
    "# Define a Gaussian model as an initial guess of the best fit.\n",
    "g_init = models.Gaussian1D(amplitude=0.007, mean=30.4, stddev=0.2)"
   ]
  },
  {
   "cell_type": "code",
   "execution_count": 19,
   "metadata": {
    "collapsed": true
   },
   "outputs": [],
   "source": [
    "# Select and instantiate the type of fitting algorithm we want to use \n",
    "# from the fitting module of astropy.modeling package.\n",
    "fit_g = fitting.LevMarLSQFitter()"
   ]
  },
  {
   "cell_type": "code",
   "execution_count": 20,
   "metadata": {
    "collapsed": true
   },
   "outputs": [],
   "source": [
    "# Fit the data\n",
    "g = fit_g(g_init, wavelength, irradiance)"
   ]
  },
  {
   "cell_type": "markdown",
   "metadata": {},
   "source": [
    "The above command creates an object containing the best fit paramters to the data for the model we have chosen to fit.  We can inspect the values of the different paramters like so."
   ]
  },
  {
   "cell_type": "code",
   "execution_count": 21,
   "metadata": {},
   "outputs": [
    {
     "data": {
      "text/plain": [
       "Parameter('amplitude', value=0.006512233582758824)"
      ]
     },
     "execution_count": 21,
     "metadata": {},
     "output_type": "execute_result"
    }
   ],
   "source": [
    "g.amplitude"
   ]
  },
  {
   "cell_type": "code",
   "execution_count": 22,
   "metadata": {},
   "outputs": [
    {
     "data": {
      "text/plain": [
       "Parameter('mean', value=30.373349145178118)"
      ]
     },
     "execution_count": 22,
     "metadata": {},
     "output_type": "execute_result"
    }
   ],
   "source": [
    "g.mean"
   ]
  },
  {
   "cell_type": "code",
   "execution_count": 23,
   "metadata": {},
   "outputs": [
    {
     "data": {
      "text/plain": [
       "Parameter('stddev', value=0.029547785343013666)"
      ]
     },
     "execution_count": 23,
     "metadata": {},
     "output_type": "execute_result"
    }
   ],
   "source": [
    "g.stddev"
   ]
  },
  {
   "cell_type": "markdown",
   "metadata": {},
   "source": [
    "And we can produce best fit y-values for any x-value like so:"
   ]
  },
  {
   "cell_type": "code",
   "execution_count": 28,
   "metadata": {
    "collapsed": true
   },
   "outputs": [],
   "source": [
    "x = np.linspace(30.2, 30.6, 1000)*u.nm"
   ]
  },
  {
   "cell_type": "code",
   "execution_count": 29,
   "metadata": {},
   "outputs": [],
   "source": [
    "y = g(x)"
   ]
  },
  {
   "cell_type": "markdown",
   "metadata": {},
   "source": [
    "Now lets overplot the fit on the data.  Let's also add labels to the axes"
   ]
  },
  {
   "cell_type": "code",
   "execution_count": 30,
   "metadata": {},
   "outputs": [
    {
     "data": {
      "text/plain": [
       "<matplotlib.text.Text at 0x11dacbbe0>"
      ]
     },
     "execution_count": 30,
     "metadata": {},
     "output_type": "execute_result"
    },
    {
     "data": {
      "image/png": "[encoded data removed]",
      "text/plain": [
       "<matplotlib.figure.Figure at 0x11db24c50>"
      ]
     },
     "metadata": {},
     "output_type": "display_data"
    }
   ],
   "source": [
    "plt.plot(wavelength, irradiance, 'o')\n",
    "plt.plot(x, y)\n",
    "plt.ylabel(\"Irradiance [W/m^2]\")\n",
    "plt.xlabel(\"Wavelength [nm]\")"
   ]
  },
  {
   "cell_type": "markdown",
   "metadata": {},
   "source": [
    "We can also easily change the units of the data and replot"
   ]
  },
  {
   "cell_type": "code",
   "execution_count": 31,
   "metadata": {
    "collapsed": true
   },
   "outputs": [],
   "source": [
    "x = Quantity(x, unit=\"nm\")\n",
    "y = Quantity(y, unit=u.W/u.m**2)"
   ]
  },
  {
   "cell_type": "code",
   "execution_count": 32,
   "metadata": {},
   "outputs": [
    {
     "data": {
      "text/plain": [
       "<matplotlib.text.Text at 0x11dacb390>"
      ]
     },
     "execution_count": 32,
     "metadata": {},
     "output_type": "execute_result"
    },
    {
     "data": {
      "image/png": "[encoded data removed]",
      "text/plain": [
       "<matplotlib.figure.Figure at 0x11e078780>"
      ]
     },
     "metadata": {},
     "output_type": "display_data"
    }
   ],
   "source": [
    "plt.plot(wavelength.to(u.angstrom), irradiance, 'o')\n",
    "plt.plot(x.to(u.angstrom), y)\n",
    "plt.ylabel(\"Irradiance [W/m^2]\")\n",
    "plt.xlabel(\"Wavelength [Angstrom]\")"
   ]
  },
  {
   "cell_type": "markdown",
   "metadata": {},
   "source": [
    "## Integrate Gaussian Fit"
   ]
  },
  {
   "cell_type": "markdown",
   "metadata": {},
   "source": [
    "We can perform trapezoidal numerical integration of the fit using scipy.stats.trapz function (imported above)."
   ]
  },
  {
   "cell_type": "code",
   "execution_count": 33,
   "metadata": {
    "collapsed": true
   },
   "outputs": [],
   "source": [
    "line_intensity = trapz(y,x)"
   ]
  },
  {
   "cell_type": "code",
   "execution_count": 34,
   "metadata": {},
   "outputs": [
    {
     "data": {
      "text/latex": [
       "$0.00048233063 \\; \\mathrm{\\frac{W\\,nm}{m^{2}}}$"
      ],
      "text/plain": [
       "<Quantity 0.00048233062533621857 nm W / m2>"
      ]
     },
     "execution_count": 34,
     "metadata": {},
     "output_type": "execute_result"
    }
   ],
   "source": [
    "line_intensity"
   ]
  },
  {
   "cell_type": "markdown",
   "metadata": {},
   "source": [
    "Note that the unit arithmetic has been automatically accounted for.  We can put the units is a cleaner form (and alter the data accordinly by doing:)"
   ]
  },
  {
   "cell_type": "code",
   "execution_count": 35,
   "metadata": {
    "collapsed": true
   },
   "outputs": [],
   "source": [
    "line_intensity = line_intensity.to(\"W/m\")"
   ]
  },
  {
   "cell_type": "markdown",
   "metadata": {},
   "source": [
    "We can also convert the Quantity to CGS or SI like so."
   ]
  },
  {
   "cell_type": "code",
   "execution_count": 36,
   "metadata": {},
   "outputs": [
    {
     "data": {
      "text/latex": [
       "$4.8233063 \\times 10^{-8} \\; \\mathrm{\\frac{dyn}{s}}$"
      ],
      "text/plain": [
       "<Quantity 4.8233062533621855e-08 dyn / s>"
      ]
     },
     "execution_count": 36,
     "metadata": {},
     "output_type": "execute_result"
    }
   ],
   "source": [
    "line_intensity.cgs\n",
    "# N.B. this returns a new object.  To overwrite line_intensity with CGS version, do line_intensity = line_intensity.cgs"
   ]
  },
  {
   "cell_type": "code",
   "execution_count": 37,
   "metadata": {},
   "outputs": [
    {
     "data": {
      "text/latex": [
       "$4.8233063 \\times 10^{-13} \\; \\mathrm{\\frac{W}{m}}$"
      ],
      "text/plain": [
       "<Quantity 4.823306253362186e-13 W / m>"
      ]
     },
     "execution_count": 37,
     "metadata": {},
     "output_type": "execute_result"
    }
   ],
   "source": [
    "line_intensity.si\n",
    "# N.B. this returns a new object.  To overwrite line_intensity with SI version, do line_intensity = line_intensity.si"
   ]
  },
  {
   "cell_type": "markdown",
   "metadata": {},
   "source": [
    "## Produce a Light Curve of He II 304 From All Spectra in File."
   ]
  },
  {
   "cell_type": "markdown",
   "metadata": {},
   "source": [
    "Let's Repeat this process for all exposures in order to produce a timeseries of the He II 304 line."
   ]
  },
  {
   "cell_type": "code",
   "execution_count": 38,
   "metadata": {
    "collapsed": true
   },
   "outputs": [],
   "source": [
    "x = np.linspace(30.2, 30.6, 1000)*u.nm\n",
    "# Define empty list\n",
    "intensity = []\n",
    "# Get wavelengths corresponding to He II 304 line\n",
    "w = np.logical_and(hdulist[1].data[\"WAVELENGTH\"] > 30.2, hdulist[1].data[\"WAVELENGTH\"] < 30.6)\n",
    "wavelength = Quantity(hdulist[1].data[\"WAVELENGTH\"][w], \"nm\")\n",
    "# For each exposure, get irradiance of He II 304 line, fit it with a Gaussian and integrate it.\n",
    "for spectrum in hdulist[3].data:\n",
    "    irradiance = Quantity(spectrum[\"IRRADIANCE\"][w], unit=\"W/m**2\")\n",
    "    g_init = models.Gaussian1D(0.007, 30.4, .2)\n",
    "    fit_g = fitting.LevMarLSQFitter()\n",
    "    g = fit_g(g_init, wavelength, irradiance)\n",
    "    y = g(x)\n",
    "    intensity.append(trapz(y,x))\n",
    "intensity = Quantity(intensity, unit=\"W/m\")"
   ]
  },
  {
   "cell_type": "code",
   "execution_count": 39,
   "metadata": {},
   "outputs": [
    {
     "data": {
      "text/plain": [
       "[<matplotlib.lines.Line2D at 0x11e29abe0>]"
      ]
     },
     "execution_count": 39,
     "metadata": {},
     "output_type": "execute_result"
    },
    {
     "data": {
      "image/png": "[encoded data removed]",
      "text/plain": [
       "<matplotlib.figure.Figure at 0x11e0af7b8>"
      ]
     },
     "metadata": {},
     "output_type": "display_data"
    }
   ],
   "source": [
    "plt.plot(intensity)"
   ]
  },
  {
   "cell_type": "code",
   "execution_count": null,
   "metadata": {
    "collapsed": true
   },
   "outputs": [],
   "source": []
  }
 ],
 "metadata": {
  "kernelspec": {
   "display_name": "Python 3",
   "language": "python",
   "name": "python3"
  },
  "language_info": {
   "codemirror_mode": {
    "name": "ipython",
    "version": 3
   },
   "file_extension": ".py",
   "mimetype": "text/x-python",
   "name": "python",
   "nbconvert_exporter": "python",
   "pygments_lexer": "ipython3",
   "version": "3.6.1"
  }
 },
 "nbformat": 4,
 "nbformat_minor": 2
}
