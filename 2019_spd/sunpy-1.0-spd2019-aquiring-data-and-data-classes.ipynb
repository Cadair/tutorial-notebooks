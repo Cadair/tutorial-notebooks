{
 "cells": [
  {
   "cell_type": "code",
   "execution_count": 2,
   "metadata": {},
   "outputs": [],
   "source": [
    "import sunpy"
   ]
  },
  {
   "cell_type": "code",
   "execution_count": 3,
   "metadata": {},
   "outputs": [
    {
     "name": "stdout",
     "output_type": "stream",
     "text": [
      "==============================\n",
      "SunPy Installation Information\n",
      "==============================\n",
      "\n",
      "#######\n",
      "General\n",
      "#######\n",
      "Time : Tuesday, 04. June 2019 02:02AM UT\n",
      "System : Darwin\n",
      "Processor : i386\n",
      "Arch : 64bit\n",
      "SunPy : 1.0.0\n",
      "OS: Mac OS X 10.13.6 (i386)\n",
      "\n",
      "\n",
      "##################\n",
      "Required Libraries\n",
      "##################\n",
      "Python: 3.6.8\n",
      "NumPy: 1.15.4\n",
      "SciPy: 1.1.0\n",
      "matplotlib: 3.0.3\n",
      "Astropy: 3.1.2\n",
      "Pandas: 0.23.4\n",
      "parfive: 0.2.1\n",
      "\n",
      "\n",
      "#####################\n",
      "Recommended Libraries\n",
      "#####################\n",
      "beautifulsoup: 4.6.3\n",
      "PyQt4: 4.11.4\n",
      "PyQt5: NOT INSTALLED\n",
      "Zeep: 3.3.1\n",
      "Sqlalchemy: 1.2.12\n",
      "drms: 0.5.5\n"
     ]
    }
   ],
   "source": [
    "sunpy.system_info()"
   ]
  },
  {
   "cell_type": "code",
   "execution_count": 62,
   "metadata": {},
   "outputs": [],
   "source": [
    "import numpy as np\n",
    "import sunpy.map\n",
    "from sunpy.coordinates import frames\n",
    "from sunpy.net import Fido, attrs as a\n",
    "from astropy import units as u\n",
    "from astropy.coordinates import SkyCoord\n",
    "from sunpy import timeseries as ts\n",
    "from sunpy.coordinates import get_body_heliographic_stonyhurst\n",
    "import matplotlib.pyplot as plt\n",
    "\n",
    "import warnings\n",
    "warnings.filterwarnings('ignore')"
   ]
  },
  {
   "cell_type": "code",
   "execution_count": null,
   "metadata": {},
   "outputs": [],
   "source": [
    "%matplotlib inline\n",
    "plt.rcParams['figure.figsize'] = (16,8)"
   ]
  },
  {
   "cell_type": "markdown",
   "metadata": {},
   "source": [
    "# Aquiring Data and SunPy Data Classes"
   ]
  },
  {
   "cell_type": "markdown",
   "metadata": {},
   "source": [
    "## Fido Unified Downloader"
   ]
  },
  {
   "cell_type": "markdown",
   "metadata": {},
   "source": [
    "Fido (Federated Internet Data Obtainer) is a unified interface for the search and retrival of solar physics data regardless of the underlying client or webservice through which the data is obtained, e.g. VSO, JSOC, etc. \n",
    "\n",
    "In SunPy 1.0 Fido now makes use of an asynchronous download stream through the module `parfive`\n",
    "\n",
    "## Lets look at how we can search and download some solar physics data"
   ]
  },
  {
   "cell_type": "code",
   "execution_count": 2,
   "metadata": {},
   "outputs": [],
   "source": [
    "#lets search for some SDO/AIA data over some time\n",
    "results = Fido.search(a.Time('2014/05/15 08:00', '2014/05/15 08:10'), a.Instrument('AIA'))"
   ]
  },
  {
   "cell_type": "code",
   "execution_count": 3,
   "metadata": {},
   "outputs": [
    {
     "data": {
      "text/html": [
       "Results from 1 Provider:</br></br>400 Results from the VSOClient:</br><i>QTable length=400</i>\n",
       "<table id=\"table120929525888\" class=\"table-striped table-bordered table-condensed\">\n",
       "<thead><tr><th>Start Time [1]</th><th>End Time [1]</th><th>Source</th><th>Instrument</th><th>Type</th><th>Wavelength [2]</th></tr></thead>\n",
       "<thead><tr><th></th><th></th><th></th><th></th><th></th><th>Angstrom</th></tr></thead>\n",
       "<thead><tr><th>str19</th><th>str19</th><th>str3</th><th>str3</th><th>str8</th><th>float64</th></tr></thead>\n",
       "<tr><td>2014-05-15 08:00:01</td><td>2014-05-15 08:00:02</td><td>SDO</td><td>AIA</td><td>FULLDISK</td><td>94.0 .. 94.0</td></tr>\n",
       "<tr><td>2014-05-15 08:00:02</td><td>2014-05-15 08:00:03</td><td>SDO</td><td>AIA</td><td>FULLDISK</td><td>335.0 .. 335.0</td></tr>\n",
       "<tr><td>2014-05-15 08:00:06</td><td>2014-05-15 08:00:07</td><td>SDO</td><td>AIA</td><td>FULLDISK</td><td>193.0 .. 193.0</td></tr>\n",
       "<tr><td>2014-05-15 08:00:07</td><td>2014-05-15 08:00:08</td><td>SDO</td><td>AIA</td><td>FULLDISK</td><td>304.0 .. 304.0</td></tr>\n",
       "<tr><td>2014-05-15 08:00:07</td><td>2014-05-15 08:00:08</td><td>SDO</td><td>AIA</td><td>FULLDISK</td><td>4500.0 .. 4500.0</td></tr>\n",
       "<tr><td>2014-05-15 08:00:08</td><td>2014-05-15 08:00:09</td><td>SDO</td><td>AIA</td><td>FULLDISK</td><td>131.0 .. 131.0</td></tr>\n",
       "<tr><td>2014-05-15 08:00:11</td><td>2014-05-15 08:00:12</td><td>SDO</td><td>AIA</td><td>FULLDISK</td><td>171.0 .. 171.0</td></tr>\n",
       "<tr><td>2014-05-15 08:00:11</td><td>2014-05-15 08:00:12</td><td>SDO</td><td>AIA</td><td>FULLDISK</td><td>211.0 .. 211.0</td></tr>\n",
       "<tr><td>2014-05-15 08:00:13</td><td>2014-05-15 08:00:14</td><td>SDO</td><td>AIA</td><td>FULLDISK</td><td>94.0 .. 94.0</td></tr>\n",
       "<tr><td>...</td><td>...</td><td>...</td><td>...</td><td>...</td><td>...</td></tr>\n",
       "<tr><td>2014-05-15 08:09:47</td><td>2014-05-15 08:09:48</td><td>SDO</td><td>AIA</td><td>FULLDISK</td><td>171.0 .. 171.0</td></tr>\n",
       "<tr><td>2014-05-15 08:09:47</td><td>2014-05-15 08:09:48</td><td>SDO</td><td>AIA</td><td>FULLDISK</td><td>211.0 .. 211.0</td></tr>\n",
       "<tr><td>2014-05-15 08:09:49</td><td>2014-05-15 08:09:50</td><td>SDO</td><td>AIA</td><td>FULLDISK</td><td>94.0 .. 94.0</td></tr>\n",
       "<tr><td>2014-05-15 08:09:50</td><td>2014-05-15 08:09:51</td><td>SDO</td><td>AIA</td><td>FULLDISK</td><td>335.0 .. 335.0</td></tr>\n",
       "<tr><td>2014-05-15 08:09:52</td><td>2014-05-15 08:09:53</td><td>SDO</td><td>AIA</td><td>FULLDISK</td><td>1600.0 .. 1600.0</td></tr>\n",
       "<tr><td>2014-05-15 08:09:54</td><td>2014-05-15 08:09:55</td><td>SDO</td><td>AIA</td><td>FULLDISK</td><td>193.0 .. 193.0</td></tr>\n",
       "<tr><td>2014-05-15 08:09:55</td><td>2014-05-15 08:09:56</td><td>SDO</td><td>AIA</td><td>FULLDISK</td><td>304.0 .. 304.0</td></tr>\n",
       "<tr><td>2014-05-15 08:09:56</td><td>2014-05-15 08:09:57</td><td>SDO</td><td>AIA</td><td>FULLDISK</td><td>131.0 .. 131.0</td></tr>\n",
       "<tr><td>2014-05-15 08:09:59</td><td>2014-05-15 08:10:00</td><td>SDO</td><td>AIA</td><td>FULLDISK</td><td>171.0 .. 171.0</td></tr>\n",
       "<tr><td>2014-05-15 08:09:59</td><td>2014-05-15 08:10:00</td><td>SDO</td><td>AIA</td><td>FULLDISK</td><td>211.0 .. 211.0</td></tr>\n",
       "</table></br>"
      ],
      "text/plain": [
       "<sunpy.net.fido_factory.UnifiedResponse object at 0x1c27f49cf8>\n",
       "Results from 1 Provider:\n",
       "\n",
       "400 Results from the VSOClient:\n",
       "   Start Time [1]       End Time [1]    Source ...   Type    Wavelength [2] \n",
       "                                               ...              Angstrom    \n",
       "       str19               str19         str3  ...   str8       float64     \n",
       "------------------- ------------------- ------ ... -------- ----------------\n",
       "2014-05-15 08:00:01 2014-05-15 08:00:02    SDO ... FULLDISK     94.0 .. 94.0\n",
       "2014-05-15 08:00:02 2014-05-15 08:00:03    SDO ... FULLDISK   335.0 .. 335.0\n",
       "2014-05-15 08:00:06 2014-05-15 08:00:07    SDO ... FULLDISK   193.0 .. 193.0\n",
       "2014-05-15 08:00:07 2014-05-15 08:00:08    SDO ... FULLDISK   304.0 .. 304.0\n",
       "2014-05-15 08:00:07 2014-05-15 08:00:08    SDO ... FULLDISK 4500.0 .. 4500.0\n",
       "2014-05-15 08:00:08 2014-05-15 08:00:09    SDO ... FULLDISK   131.0 .. 131.0\n",
       "2014-05-15 08:00:11 2014-05-15 08:00:12    SDO ... FULLDISK   171.0 .. 171.0\n",
       "2014-05-15 08:00:11 2014-05-15 08:00:12    SDO ... FULLDISK   211.0 .. 211.0\n",
       "2014-05-15 08:00:13 2014-05-15 08:00:14    SDO ... FULLDISK     94.0 .. 94.0\n",
       "                ...                 ...    ... ...      ...              ...\n",
       "2014-05-15 08:09:47 2014-05-15 08:09:48    SDO ... FULLDISK   171.0 .. 171.0\n",
       "2014-05-15 08:09:47 2014-05-15 08:09:48    SDO ... FULLDISK   211.0 .. 211.0\n",
       "2014-05-15 08:09:49 2014-05-15 08:09:50    SDO ... FULLDISK     94.0 .. 94.0\n",
       "2014-05-15 08:09:50 2014-05-15 08:09:51    SDO ... FULLDISK   335.0 .. 335.0\n",
       "2014-05-15 08:09:52 2014-05-15 08:09:53    SDO ... FULLDISK 1600.0 .. 1600.0\n",
       "2014-05-15 08:09:54 2014-05-15 08:09:55    SDO ... FULLDISK   193.0 .. 193.0\n",
       "2014-05-15 08:09:55 2014-05-15 08:09:56    SDO ... FULLDISK   304.0 .. 304.0\n",
       "2014-05-15 08:09:56 2014-05-15 08:09:57    SDO ... FULLDISK   131.0 .. 131.0\n",
       "2014-05-15 08:09:59 2014-05-15 08:10:00    SDO ... FULLDISK   171.0 .. 171.0\n",
       "2014-05-15 08:09:59 2014-05-15 08:10:00    SDO ... FULLDISK   211.0 .. 211.0\n"
      ]
     },
     "execution_count": 3,
     "metadata": {},
     "output_type": "execute_result"
    }
   ],
   "source": [
    "results"
   ]
  },
  {
   "cell_type": "code",
   "execution_count": 4,
   "metadata": {},
   "outputs": [
    {
     "data": {
      "text/plain": [
       "400"
      ]
     },
     "execution_count": 4,
     "metadata": {},
     "output_type": "execute_result"
    }
   ],
   "source": [
    "results.file_num"
   ]
  },
  {
   "cell_type": "markdown",
   "metadata": {},
   "source": [
    "Queries to Fido can be make more specific by using other attributes. Lets narrow the search to only look at one wavelength, with a cadence of 1 minute. This makes use of Astropy units "
   ]
  },
  {
   "cell_type": "code",
   "execution_count": 5,
   "metadata": {},
   "outputs": [],
   "source": [
    "results = Fido.search(a.Time('2014/05/15 08:00', '2014/05/15 08:10'), a.Instrument('AIA'), \n",
    "                      a.Wavelength(171*u.angstrom), a.vso.Sample(1*u.minute))"
   ]
  },
  {
   "cell_type": "code",
   "execution_count": 6,
   "metadata": {},
   "outputs": [
    {
     "data": {
      "text/html": [
       "Results from 1 Provider:</br></br>10 Results from the VSOClient:</br><i>QTable length=10</i>\n",
       "<table id=\"table120936259256\" class=\"table-striped table-bordered table-condensed\">\n",
       "<thead><tr><th>Start Time [1]</th><th>End Time [1]</th><th>Source</th><th>Instrument</th><th>Type</th><th>Wavelength [2]</th></tr></thead>\n",
       "<thead><tr><th></th><th></th><th></th><th></th><th></th><th>Angstrom</th></tr></thead>\n",
       "<thead><tr><th>str19</th><th>str19</th><th>str3</th><th>str3</th><th>str8</th><th>float64</th></tr></thead>\n",
       "<tr><td>2014-05-15 08:08:11</td><td>2014-05-15 08:08:12</td><td>SDO</td><td>AIA</td><td>FULLDISK</td><td>171.0 .. 171.0</td></tr>\n",
       "<tr><td>2014-05-15 08:05:11</td><td>2014-05-15 08:05:12</td><td>SDO</td><td>AIA</td><td>FULLDISK</td><td>171.0 .. 171.0</td></tr>\n",
       "<tr><td>2014-05-15 08:02:11</td><td>2014-05-15 08:02:12</td><td>SDO</td><td>AIA</td><td>FULLDISK</td><td>171.0 .. 171.0</td></tr>\n",
       "<tr><td>2014-05-15 08:03:11</td><td>2014-05-15 08:03:12</td><td>SDO</td><td>AIA</td><td>FULLDISK</td><td>171.0 .. 171.0</td></tr>\n",
       "<tr><td>2014-05-15 08:07:11</td><td>2014-05-15 08:07:12</td><td>SDO</td><td>AIA</td><td>FULLDISK</td><td>171.0 .. 171.0</td></tr>\n",
       "<tr><td>2014-05-15 08:04:11</td><td>2014-05-15 08:04:12</td><td>SDO</td><td>AIA</td><td>FULLDISK</td><td>171.0 .. 171.0</td></tr>\n",
       "<tr><td>2014-05-15 08:06:11</td><td>2014-05-15 08:06:12</td><td>SDO</td><td>AIA</td><td>FULLDISK</td><td>171.0 .. 171.0</td></tr>\n",
       "<tr><td>2014-05-15 08:09:11</td><td>2014-05-15 08:09:12</td><td>SDO</td><td>AIA</td><td>FULLDISK</td><td>171.0 .. 171.0</td></tr>\n",
       "<tr><td>2014-05-15 08:00:11</td><td>2014-05-15 08:00:12</td><td>SDO</td><td>AIA</td><td>FULLDISK</td><td>171.0 .. 171.0</td></tr>\n",
       "<tr><td>2014-05-15 08:01:11</td><td>2014-05-15 08:01:12</td><td>SDO</td><td>AIA</td><td>FULLDISK</td><td>171.0 .. 171.0</td></tr>\n",
       "</table></br>"
      ],
      "text/plain": [
       "<sunpy.net.fido_factory.UnifiedResponse object at 0x1c28feb9b0>\n",
       "Results from 1 Provider:\n",
       "\n",
       "10 Results from the VSOClient:\n",
       "   Start Time [1]       End Time [1]    Source ...   Type   Wavelength [2]\n",
       "                                               ...             Angstrom   \n",
       "       str19               str19         str3  ...   str8      float64    \n",
       "------------------- ------------------- ------ ... -------- --------------\n",
       "2014-05-15 08:08:11 2014-05-15 08:08:12    SDO ... FULLDISK 171.0 .. 171.0\n",
       "2014-05-15 08:05:11 2014-05-15 08:05:12    SDO ... FULLDISK 171.0 .. 171.0\n",
       "2014-05-15 08:02:11 2014-05-15 08:02:12    SDO ... FULLDISK 171.0 .. 171.0\n",
       "2014-05-15 08:03:11 2014-05-15 08:03:12    SDO ... FULLDISK 171.0 .. 171.0\n",
       "2014-05-15 08:07:11 2014-05-15 08:07:12    SDO ... FULLDISK 171.0 .. 171.0\n",
       "2014-05-15 08:04:11 2014-05-15 08:04:12    SDO ... FULLDISK 171.0 .. 171.0\n",
       "2014-05-15 08:06:11 2014-05-15 08:06:12    SDO ... FULLDISK 171.0 .. 171.0\n",
       "2014-05-15 08:09:11 2014-05-15 08:09:12    SDO ... FULLDISK 171.0 .. 171.0\n",
       "2014-05-15 08:00:11 2014-05-15 08:00:12    SDO ... FULLDISK 171.0 .. 171.0\n",
       "2014-05-15 08:01:11 2014-05-15 08:01:12    SDO ... FULLDISK 171.0 .. 171.0\n"
      ]
     },
     "execution_count": 6,
     "metadata": {},
     "output_type": "execute_result"
    }
   ],
   "source": [
    "results"
   ]
  },
  {
   "cell_type": "markdown",
   "metadata": {},
   "source": [
    "## The search results can then be downloaded via the fetch function"
   ]
  },
  {
   "cell_type": "code",
   "execution_count": 7,
   "metadata": {},
   "outputs": [
    {
     "data": {
      "application/vnd.jupyter.widget-view+json": {
       "model_id": "568121ff28294ce9bc9104537b5acb40",
       "version_major": 2,
       "version_minor": 0
      },
      "text/plain": [
       "HBox(children=(IntProgress(value=0, description='Files Downloaded', max=10, style=ProgressStyle(description_wi…"
      ]
     },
     "metadata": {},
     "output_type": "display_data"
    },
    {
     "name": "stdout",
     "output_type": "stream",
     "text": [
      "\n"
     ]
    }
   ],
   "source": [
    "aia_files = Fido.fetch(results)"
   ]
  },
  {
   "cell_type": "code",
   "execution_count": 8,
   "metadata": {},
   "outputs": [
    {
     "data": {
      "text/plain": [
       "['/Users/laurahayes/sunpy/data/aia_lev1_171a_2014_05_15t08_00_11_34z_image_lev1.fits',\n",
       " '/Users/laurahayes/sunpy/data/aia_lev1_171a_2014_05_15t08_08_11_34z_image_lev1.fits',\n",
       " '/Users/laurahayes/sunpy/data/aia_lev1_171a_2014_05_15t08_04_11_34z_image_lev1.fits',\n",
       " '/Users/laurahayes/sunpy/data/aia_lev1_171a_2014_05_15t08_03_11_34z_image_lev1.fits',\n",
       " '/Users/laurahayes/sunpy/data/aia_lev1_171a_2014_05_15t08_01_11_34z_image_lev1.fits',\n",
       " '/Users/laurahayes/sunpy/data/aia_lev1_171a_2014_05_15t08_07_11_34z_image_lev1.fits',\n",
       " '/Users/laurahayes/sunpy/data/aia_lev1_171a_2014_05_15t08_05_11_34z_image_lev1.fits',\n",
       " '/Users/laurahayes/sunpy/data/aia_lev1_171a_2014_05_15t08_06_11_34z_image_lev1.fits',\n",
       " '/Users/laurahayes/sunpy/data/aia_lev1_171a_2014_05_15t08_02_11_34z_image_lev1.fits',\n",
       " '/Users/laurahayes/sunpy/data/aia_lev1_171a_2014_05_15t08_09_11_34z_image_lev1.fits']"
      ]
     },
     "execution_count": 8,
     "metadata": {},
     "output_type": "execute_result"
    }
   ],
   "source": [
    "aia_files[0:10]"
   ]
  },
  {
   "cell_type": "markdown",
   "metadata": {},
   "source": [
    "## More detailed searchs with Fido\n",
    "Fido searches can include searchs from multiple instruments, wavelengths, times etc. This is achieved through the | opertaior which acts as a logical OR operator.\n"
   ]
  },
  {
   "cell_type": "code",
   "execution_count": 9,
   "metadata": {},
   "outputs": [],
   "source": [
    "results = Fido.search(a.Time('2014/05/15 08:00', '2014/05/15 08:10'), a.Instrument('AIA')|a.Instrument('SWAP'))\n",
    "   "
   ]
  },
  {
   "cell_type": "code",
   "execution_count": 10,
   "metadata": {},
   "outputs": [
    {
     "data": {
      "text/html": [
       "Results from 2 Providers:</br></br>1 Results from the VSOClient:</br><i>QTable length=1</i>\n",
       "<table id=\"table120948423704\" class=\"table-striped table-bordered table-condensed\">\n",
       "<thead><tr><th>Start Time [1]</th><th>End Time [1]</th><th>Source</th><th>Instrument</th><th>Type</th><th>Wavelength [2]</th></tr></thead>\n",
       "<thead><tr><th></th><th></th><th></th><th></th><th></th><th>Angstrom</th></tr></thead>\n",
       "<thead><tr><th>str19</th><th>str19</th><th>str3</th><th>str3</th><th>str8</th><th>float64</th></tr></thead>\n",
       "<tr><td>2014-05-15 08:00:01</td><td>2014-05-15 08:00:02</td><td>SDO</td><td>AIA</td><td>FULLDISK</td><td>94.0 .. 94.0</td></tr>\n",
       "</table></br>1 Results from the VSOClient:</br><i>QTable length=1</i>\n",
       "<table id=\"table120947237776\" class=\"table-striped table-bordered table-condensed\">\n",
       "<thead><tr><th>Start Time [1]</th><th>End Time [1]</th><th>Source</th><th>Instrument</th><th>Type</th><th>Wavelength [2]</th></tr></thead>\n",
       "<thead><tr><th></th><th></th><th></th><th></th><th></th><th>Angstrom</th></tr></thead>\n",
       "<thead><tr><th>str19</th><th>str19</th><th>str6</th><th>str4</th><th>str7</th><th>float64</th></tr></thead>\n",
       "<tr><td>2014-05-15 08:03:06</td><td>2014-05-15 08:03:16</td><td>PROBA2</td><td>SWAP</td><td>FULLSUN</td><td>174.0 .. 174.0</td></tr>\n",
       "</table></br>"
      ],
      "text/plain": [
       "<sunpy.net.fido_factory.UnifiedResponse object at 0x1c290468d0>\n",
       "Results from 2 Providers:\n",
       "\n",
       "1 Results from the VSOClient:\n",
       "   Start Time [1]       End Time [1]    Source ...   Type   Wavelength [2]\n",
       "                                               ...             Angstrom   \n",
       "       str19               str19         str3  ...   str8      float64    \n",
       "------------------- ------------------- ------ ... -------- --------------\n",
       "2014-05-15 08:00:01 2014-05-15 08:00:02    SDO ... FULLDISK   94.0 .. 94.0\n",
       "\n",
       "1 Results from the VSOClient:\n",
       "   Start Time [1]       End Time [1]    Source Instrument   Type  Wavelength [2]\n",
       "                                                                     Angstrom   \n",
       "       str19               str19         str6     str4      str7     float64    \n",
       "------------------- ------------------- ------ ---------- ------- --------------\n",
       "2014-05-15 08:03:06 2014-05-15 08:03:16 PROBA2       SWAP FULLSUN 174.0 .. 174.0\n"
      ]
     },
     "execution_count": 10,
     "metadata": {},
     "output_type": "execute_result"
    }
   ],
   "source": [
    "# the results can be indexed to access a subset of the search results\n",
    "results[:,0]"
   ]
  },
  {
   "cell_type": "code",
   "execution_count": 11,
   "metadata": {},
   "outputs": [
    {
     "data": {
      "application/vnd.jupyter.widget-view+json": {
       "model_id": "8dcc8117b1744258ac76b352785415d7",
       "version_major": 2,
       "version_minor": 0
      },
      "text/plain": [
       "HBox(children=(IntProgress(value=0, description='Files Downloaded', max=2, style=ProgressStyle(description_wid…"
      ]
     },
     "metadata": {},
     "output_type": "display_data"
    },
    {
     "name": "stdout",
     "output_type": "stream",
     "text": [
      "\n"
     ]
    }
   ],
   "source": [
    "files = Fido.fetch(results[:,0])"
   ]
  },
  {
   "cell_type": "markdown",
   "metadata": {},
   "source": [
    "# 2. Handeling DataTypes (Map and Timeseries)\n",
    "\n",
    "SunPy provides core data type classes that are designed to provide a consistent interface acress data types (lightcurves and images) as well as data sources from numerous instruments and observations. They handle all of the manipulation necessary to read data in from mission-specific files.  The two main datatypes in SunPy are the TimeSeries and Map classes."
   ]
  },
  {
   "cell_type": "markdown",
   "metadata": {},
   "source": [
    "## 2.1 TimeSeries\n",
    "The structure of a TimeSeries consists of times and measurements and the underlying structure is that of a `pandas.DataFrame`. SunPy TimeSeries supports time-series data from a wide range of solar-focussed instruments.\n",
    "\n",
    "Lets look at an example of using TimeSeries to deal with GOES/XRS observations"
   ]
  },
  {
   "cell_type": "code",
   "execution_count": 58,
   "metadata": {},
   "outputs": [
    {
     "data": {
      "application/vnd.jupyter.widget-view+json": {
       "model_id": "86f229c2b25b41c0a85d0bb27a702933",
       "version_major": 2,
       "version_minor": 0
      },
      "text/plain": [
       "HBox(children=(IntProgress(value=0, description='Files Downloaded', max=1, style=ProgressStyle(description_wid…"
      ]
     },
     "metadata": {},
     "output_type": "display_data"
    },
    {
     "name": "stdout",
     "output_type": "stream",
     "text": [
      "\n"
     ]
    }
   ],
   "source": [
    "search_results = Fido.search(a.Time('2013-10-28 00:00','2013-10-28 12:00'),a.Instrument('XRS'))\n",
    "goes_files = Fido.fetch(search_results[0])"
   ]
  },
  {
   "cell_type": "code",
   "execution_count": 66,
   "metadata": {},
   "outputs": [
    {
     "name": "stderr",
     "output_type": "stream",
     "text": [
      "/Users/laurahayes/anaconda3/lib/python3.7/functools.py:824: UserWarning: Discarding nonzero nanoseconds in conversion\n",
      "  return dispatch(args[0].__class__)(*args, **kw)\n",
      "/Users/laurahayes/anaconda3/lib/python3.7/functools.py:824: UserWarning: Discarding nonzero nanoseconds in conversion\n",
      "  return dispatch(args[0].__class__)(*args, **kw)\n"
     ]
    }
   ],
   "source": [
    "goes_lc = ts.TimeSeries(goes_files)"
   ]
  },
  {
   "cell_type": "code",
   "execution_count": 65,
   "metadata": {},
   "outputs": [
    {
     "data": {
      "image/png": "[encoded data removed]",
      "text/plain": [
       "<Figure size 432x288 with 2 Axes>"
      ]
     },
     "metadata": {
      "needs_background": "light"
     },
     "output_type": "display_data"
    }
   ],
   "source": [
    "goes_lc.peek()"
   ]
  },
  {
   "cell_type": "markdown",
   "metadata": {},
   "source": [
    "We can inspect the meta information in the TimeSeries object."
   ]
  },
  {
   "cell_type": "code",
   "execution_count": 15,
   "metadata": {},
   "outputs": [
    {
     "data": {
      "text/plain": [
       "|-------------------------------------------------------------------------------------------------|\n",
       "|TimeRange                  | Columns         | Meta                                              |\n",
       "|-------------------------------------------------------------------------------------------------|\n",
       "|2013-10-27 23:59:58.311999 | xrsa            | simple: True                                      |\n",
       "|            to             | xrsb            | bitpix: 8                                         |\n",
       "|2013-10-28 23:59:56.468999 |                 | naxis: 0                                          |\n",
       "|                           |                 | extend: True                                      |\n",
       "|                           |                 | date: 02/11/2013                                  |\n",
       "|                           |                 | numext: 3                                         |\n",
       "|                           |                 | telescop: GOES 15                                 |\n",
       "|                           |                 | instrume: X-ray Detector                          |\n",
       "|                           |                 | object: Sun                                       |\n",
       "|                           |                 | origin: SDAC/GSFC                                 |\n",
       "|                           |                 | ...                                               |\n",
       "|-------------------------------------------------------------------------------------------------|"
      ]
     },
     "execution_count": 15,
     "metadata": {},
     "output_type": "execute_result"
    }
   ],
   "source": [
    "goes_lc.meta"
   ]
  },
  {
   "cell_type": "markdown",
   "metadata": {},
   "source": [
    "And inspect the associated units"
   ]
  },
  {
   "cell_type": "code",
   "execution_count": 16,
   "metadata": {},
   "outputs": [
    {
     "data": {
      "text/plain": [
       "OrderedDict([('xrsa', Unit(\"W / m2\")), ('xrsb', Unit(\"W / m2\"))])"
      ]
     },
     "execution_count": 16,
     "metadata": {},
     "output_type": "execute_result"
    }
   ],
   "source": [
    "goes_lc.units"
   ]
  },
  {
   "cell_type": "markdown",
   "metadata": {},
   "source": [
    "We can also inspect and manipulate the data"
   ]
  },
  {
   "cell_type": "code",
   "execution_count": 17,
   "metadata": {},
   "outputs": [
    {
     "data": {
      "text/html": [
       "<div>\n",
       "<style scoped>\n",
       "    .dataframe tbody tr th:only-of-type {\n",
       "        vertical-align: middle;\n",
       "    }\n",
       "\n",
       "    .dataframe tbody tr th {\n",
       "        vertical-align: top;\n",
       "    }\n",
       "\n",
       "    .dataframe thead th {\n",
       "        text-align: right;\n",
       "    }\n",
       "</style>\n",
       "<table border=\"1\" class=\"dataframe\">\n",
       "  <thead>\n",
       "    <tr style=\"text-align: right;\">\n",
       "      <th></th>\n",
       "      <th>xrsa</th>\n",
       "      <th>xrsb</th>\n",
       "    </tr>\n",
       "  </thead>\n",
       "  <tbody>\n",
       "    <tr>\n",
       "      <th>2013-10-27 23:59:58.311999798</th>\n",
       "      <td>2.946400e-08</td>\n",
       "      <td>0.000002</td>\n",
       "    </tr>\n",
       "    <tr>\n",
       "      <th>2013-10-28 00:00:00.358999968</th>\n",
       "      <td>2.723500e-08</td>\n",
       "      <td>0.000002</td>\n",
       "    </tr>\n",
       "    <tr>\n",
       "      <th>2013-10-28 00:00:02.408999920</th>\n",
       "      <td>2.946400e-08</td>\n",
       "      <td>0.000002</td>\n",
       "    </tr>\n",
       "    <tr>\n",
       "      <th>2013-10-28 00:00:04.454999924</th>\n",
       "      <td>2.946400e-08</td>\n",
       "      <td>0.000002</td>\n",
       "    </tr>\n",
       "    <tr>\n",
       "      <th>2013-10-28 00:00:06.501999855</th>\n",
       "      <td>2.946400e-08</td>\n",
       "      <td>0.000002</td>\n",
       "    </tr>\n",
       "    <tr>\n",
       "      <th>2013-10-28 00:00:08.551999807</th>\n",
       "      <td>3.057800e-08</td>\n",
       "      <td>0.000002</td>\n",
       "    </tr>\n",
       "    <tr>\n",
       "      <th>2013-10-28 00:00:10.598999977</th>\n",
       "      <td>2.946400e-08</td>\n",
       "      <td>0.000002</td>\n",
       "    </tr>\n",
       "    <tr>\n",
       "      <th>2013-10-28 00:00:12.648999929</th>\n",
       "      <td>2.946400e-08</td>\n",
       "      <td>0.000002</td>\n",
       "    </tr>\n",
       "    <tr>\n",
       "      <th>2013-10-28 00:00:14.694999933</th>\n",
       "      <td>3.057800e-08</td>\n",
       "      <td>0.000002</td>\n",
       "    </tr>\n",
       "    <tr>\n",
       "      <th>2013-10-28 00:00:16.741999865</th>\n",
       "      <td>2.834900e-08</td>\n",
       "      <td>0.000002</td>\n",
       "    </tr>\n",
       "  </tbody>\n",
       "</table>\n",
       "</div>"
      ],
      "text/plain": [
       "                                       xrsa      xrsb\n",
       "2013-10-27 23:59:58.311999798  2.946400e-08  0.000002\n",
       "2013-10-28 00:00:00.358999968  2.723500e-08  0.000002\n",
       "2013-10-28 00:00:02.408999920  2.946400e-08  0.000002\n",
       "2013-10-28 00:00:04.454999924  2.946400e-08  0.000002\n",
       "2013-10-28 00:00:06.501999855  2.946400e-08  0.000002\n",
       "2013-10-28 00:00:08.551999807  3.057800e-08  0.000002\n",
       "2013-10-28 00:00:10.598999977  2.946400e-08  0.000002\n",
       "2013-10-28 00:00:12.648999929  2.946400e-08  0.000002\n",
       "2013-10-28 00:00:14.694999933  3.057800e-08  0.000002\n",
       "2013-10-28 00:00:16.741999865  2.834900e-08  0.000002"
      ]
     },
     "execution_count": 17,
     "metadata": {},
     "output_type": "execute_result"
    }
   ],
   "source": [
    "goes_lc.data[0:10]"
   ]
  },
  {
   "cell_type": "code",
   "execution_count": 18,
   "metadata": {},
   "outputs": [],
   "source": [
    "goes_lc.data['xrsb'][0:5] = 10"
   ]
  },
  {
   "cell_type": "code",
   "execution_count": 19,
   "metadata": {},
   "outputs": [
    {
     "data": {
      "text/plain": [
       "2013-10-27 23:59:58.311999798    10.000000\n",
       "2013-10-28 00:00:00.358999968    10.000000\n",
       "2013-10-28 00:00:02.408999920    10.000000\n",
       "2013-10-28 00:00:04.454999924    10.000000\n",
       "2013-10-28 00:00:06.501999855    10.000000\n",
       "2013-10-28 00:00:08.551999807     0.000002\n",
       "2013-10-28 00:00:10.598999977     0.000002\n",
       "2013-10-28 00:00:12.648999929     0.000002\n",
       "2013-10-28 00:00:14.694999933     0.000002\n",
       "2013-10-28 00:00:16.741999865     0.000002\n",
       "Name: xrsb, dtype: float32"
      ]
     },
     "execution_count": 19,
     "metadata": {},
     "output_type": "execute_result"
    }
   ],
   "source": [
    "goes_lc.data['xrsb'][0:10]"
   ]
  },
  {
   "cell_type": "markdown",
   "metadata": {},
   "source": [
    "We can also truncate the data to specific times of interest"
   ]
  },
  {
   "cell_type": "code",
   "execution_count": 64,
   "metadata": {},
   "outputs": [],
   "source": [
    "#new_goes_lc = goes_lc.truncate('2013-10-28 01:00', '2013-10-28 02:30')\n",
    "#new_goes_lc.peek()"
   ]
  },
  {
   "cell_type": "markdown",
   "metadata": {},
   "source": [
    "## 2.2 Map \n",
    "The SunPy Map class provides the data type structure to store 2-dimensional data associated with a coordinate system. This allows users to store and manipulate images of the Sun and the heliosphere. Like TimeSeries, Map explicitly supports observations from mulitple instruments, as well as 2D data with associated WCS coordinate information.\n",
    "\n",
    "Lets look at an example of image analysis with Map"
   ]
  },
  {
   "cell_type": "code",
   "execution_count": 21,
   "metadata": {},
   "outputs": [],
   "source": [
    "aia_map = sunpy.map.Map(aia_files[0])"
   ]
  },
  {
   "cell_type": "code",
   "execution_count": 22,
   "metadata": {},
   "outputs": [
    {
     "name": "stderr",
     "output_type": "stream",
     "text": [
      "/Users/laurahayes/anaconda3/lib/python3.7/site-packages/matplotlib/figure.py:445: UserWarning: Matplotlib is currently using module://ipykernel.pylab.backend_inline, which is a non-GUI backend, so cannot show the figure.\n",
      "  % get_backend())\n"
     ]
    },
    {
     "data": {
      "image/png": "[encoded data removed]",
      "text/plain": [
       "<Figure size 432x288 with 2 Axes>"
      ]
     },
     "metadata": {
      "needs_background": "light"
     },
     "output_type": "display_data"
    }
   ],
   "source": [
    "aia_map.peek()"
   ]
  },
  {
   "cell_type": "markdown",
   "metadata": {},
   "source": [
    "We can inspect the map, the meta data etc"
   ]
  },
  {
   "cell_type": "code",
   "execution_count": 23,
   "metadata": {},
   "outputs": [
    {
     "data": {
      "text/plain": [
       "SunPy Map\n",
       "---------\n",
       "Observatory:\t\t SDO\n",
       "Instrument:\t\t AIA 3\n",
       "Detector:\t\t AIA\n",
       "Measurement:\t\t 171.0 Angstrom\n",
       "Wavelength:\t\t 171.0 Angstrom\n",
       "Observation Date:\t 2014-05-15 08:00:11\n",
       "Exposure Time:\t\t 2.000172 s\n",
       "Dimension:\t\t [4096. 4096.] pix\n",
       "Coordinate System:\t helioprojective\n",
       "Scale:\t\t\t [0.599489 0.599489] arcsec / pix\n",
       "Reference Pixel:\t [2052.050049 2049.070068] pix\n",
       "Reference Coord:\t [0. 0.] arcsec\n",
       "array([[-2, -2,  0, ..., -1, -1,  0],\n",
       "       [-1,  0,  1, ...,  1,  0,  0],\n",
       "       [-3,  0,  0, ...,  1, -2,  1],\n",
       "       ...,\n",
       "       [-1, -2,  1, ..., -1, -1,  0],\n",
       "       [ 0,  1,  1, ..., -1, -1, -1],\n",
       "       [-2,  0,  2, ..., -2,  1,  0]], dtype=int16)"
      ]
     },
     "execution_count": 23,
     "metadata": {},
     "output_type": "execute_result"
    }
   ],
   "source": [
    "aia_map"
   ]
  },
  {
   "cell_type": "markdown",
   "metadata": {},
   "source": [
    "One of the key features is the coordinate frame underlying Map through the defined WCS and utilizes the SunPy coordinate subpackage"
   ]
  }
 ],
 "metadata": {
  "kernelspec": {
   "display_name": "Python 3",
   "language": "python",
   "name": "python3"
  },
  "language_info": {
   "codemirror_mode": {
    "name": "ipython",
    "version": 3
   },
   "file_extension": ".py",
   "mimetype": "text/x-python",
   "name": "python",
   "nbconvert_exporter": "python",
   "pygments_lexer": "ipython3",
   "version": "3.6.8"
  }
 },
 "nbformat": 4,
 "nbformat_minor": 2
}
