{
 "cells": [
  {
   "cell_type": "code",
   "execution_count": 1,
   "metadata": {},
   "outputs": [],
   "source": [
    "import sunpy"
   ]
  },
  {
   "cell_type": "code",
   "execution_count": 3,
   "metadata": {},
   "outputs": [],
   "source": [
    "# jupyter nbconvert Jupyter\\ Slides.ipynb --to slides --post serve"
   ]
  },
  {
   "cell_type": "code",
   "execution_count": 2,
   "metadata": {},
   "outputs": [
    {
     "name": "stdout",
     "output_type": "stream",
     "text": [
      "==============================\n",
      "SunPy Installation Information\n",
      "==============================\n",
      "\n",
      "#######\n",
      "General\n",
      "#######\n",
      "Time : Monday, 03. June 2019 06:29PM UT\n",
      "System : Darwin\n",
      "Processor : i386\n",
      "Arch : 64bit\n",
      "SunPy : 1.0.0\n",
      "OS: Mac OS X 10.13.6 (i386)\n",
      "\n",
      "\n",
      "##################\n",
      "Required Libraries\n",
      "##################\n",
      "Python: 3.6.8\n",
      "NumPy: 1.15.4\n",
      "SciPy: 1.1.0\n",
      "matplotlib: 3.0.3\n",
      "Astropy: 3.1.2\n",
      "Pandas: 0.23.4\n",
      "parfive: 0.2.1\n",
      "\n",
      "\n",
      "#####################\n",
      "Recommended Libraries\n",
      "#####################\n",
      "beautifulsoup: 4.6.3\n",
      "PyQt4: 4.11.4\n",
      "PyQt5: NOT INSTALLED\n",
      "Zeep: 3.3.1\n",
      "Sqlalchemy: 1.2.12\n",
      "drms: 0.5.5\n"
     ]
    }
   ],
   "source": [
    "sunpy.system_info()"
   ]
  },
  {
   "cell_type": "markdown",
   "metadata": {},
   "source": [
    "# SunPy 1.0"
   ]
  },
  {
   "cell_type": "markdown",
   "metadata": {},
   "source": [
    "## Key facts\n",
    "* No more Python 2 support, require Python 3.6+\n",
    "* Release Schedule\n",
    "* Existing API is now considered stable (e.g. Map, TimeSeries)\n",
    "    * Major cleanup and removal of old code (removed many deprecated functions and submodules)\n",
    "        * TimeSeries instead of LightCurve"
   ]
  },
  {
   "cell_type": "markdown",
   "metadata": {},
   "source": [
    "See the [what's new](http://docs.sunpy.org/en/stable/whatsnew/1.0.html) for more details!"
   ]
  },
  {
   "cell_type": "markdown",
   "metadata": {},
   "source": [
    "## Core library improvements\n",
    "* Coordinates foundation to maps\n",
    "* Full adoption of Astropy Time\n",
    "* Fido improvements\n",
    "* Adoption of a logger system for messaging\n",
    "* Major improvements in documentation\n",
    "    * Gallery improvements"
   ]
  },
  {
   "cell_type": "markdown",
   "metadata": {},
   "source": [
    "## Coordinates and Maps\n",
    "* Fully featured transformation stack\n",
    "    * Implemented all major solar-specific coordinate systems\n",
    "    * Transformations implemented for more general coordinate systems\n",
    "* WCSAxes provide easy conversion between pixel coordinates and world coordinates for plotting"
   ]
  },
  {
   "cell_type": "markdown",
   "metadata": {},
   "source": [
    "## SunPy and Time\n",
    "* Adopted astropy Time, a scientific time object\n",
    "* 2x64 bit float, maintains sub-nanosecond precision over times spanning the age of the universe.\n",
    "* Handles leap seconds\n",
    "* Light travel time corrections\n",
    "* Behaves similar to python Datetime\n",
    "    * Provides TimeDelta objects\n",
    "    * Parses time strings\n"
   ]
  },
  {
   "cell_type": "markdown",
   "metadata": {},
   "source": [
    "## Logging System\n",
    "* No more sending messages to users through print statements!\n",
    "* All messages provided by SunPy use this logging facility which is based on the Python logging module.\n",
    "* Messages can have one of several levels\n",
    "    * **DEBUG**: Detailed information, typically of interest only when diagnosing problems.\n",
    "    * **INFO**: A message conveying information about the current task, and confirming that things are working as expected\n",
    "    * **WARNING**: An indication that something unexpected happened, and that user action may be required.\n",
    "    * **ERROR**: indicates a more serious issue where something failed but the task is continuing\n",
    "    * **CRITICAL**: A serious error, indicating that the program itself may be unable to continue running.\n",
    "* Can send all messages (with timestamps) to a file for later reference.\n",
    "* Configurable through the sunpy configuration system.\n"
   ]
  },
  {
   "cell_type": "markdown",
   "metadata": {},
   "source": [
    "## Release Numbering & Schedule\n",
    "* 2 planned releases of the SunPy core package per year with at least 4 months between them\n",
    "* Releases are planned for May and November. Follows Astropy releases.\n",
    "* Two types of releases Long Term Support (LTS) release (1 year support) and a short-support release (6 months).\n"
   ]
  },
  {
   "cell_type": "markdown",
   "metadata": {},
   "source": [
    "# Call to Action (i.e. Pledge Drive)\n",
    "* the SunPy project is not funded and has been developed through the generous contribution of core developers\n",
    "* All code is developed and 'donated' to the solar physics community\n",
    "* The survival project depends on the community to contribute to it!\n",
    "    1. Donate money.\n",
    "    2. Donate your time.\n",
    "    3. Help us raise funds (e.g. always cite SunPy in papers and posters, advocate to funding agencies)"
   ]
  },
  {
   "cell_type": "markdown",
   "metadata": {},
   "source": [
    "## Links and References\n",
    "* [sunpy.org](sunpy.org)\n",
    "* Full documentation [docs.sunpy.org](docs.sunpy.org) (hosted on readthedocs, all releases)\n",
    "* Mailing list [https://groups.google.com/forum/#!forum/sunpy](https://groups.google.com/forum/#!forum/sunpy)\n",
    "* Weekly open meetings (Wed at noon ET, [https://meet.jit.si/sunpy](https://meet.jit.si/sunpy))\n",
    "* Chatroom [https://riot.im/app/#/room/#sunpy:openastronomy.org](https://riot.im/app/#/room/#sunpy:openastronomy.org)\n"
   ]
  },
  {
   "cell_type": "code",
   "execution_count": null,
   "metadata": {},
   "outputs": [],
   "source": []
  }
 ],
 "metadata": {
  "kernelspec": {
   "display_name": "Python 3",
   "language": "python",
   "name": "python3"
  },
  "language_info": {
   "codemirror_mode": {
    "name": "ipython",
    "version": 3
   },
   "file_extension": ".py",
   "mimetype": "text/x-python",
   "name": "python",
   "nbconvert_exporter": "python",
   "pygments_lexer": "ipython3",
   "version": "3.6.8"
  }
 },
 "nbformat": 4,
 "nbformat_minor": 2
}
